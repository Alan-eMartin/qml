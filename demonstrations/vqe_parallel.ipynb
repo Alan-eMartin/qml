{
 "cells": [
  {
   "cell_type": "code",
   "execution_count": 10,
   "metadata": {},
   "outputs": [
    {
     "name": "stdout",
     "output_type": "stream",
     "text": [
      "Number of terms: 15\n",
      "\n",
      "Measurement Identity on wires <Wires = [0]>\n",
      "Measurement PauliZ on wires <Wires = [0]>\n",
      "Measurement PauliZ on wires <Wires = [1]>\n",
      "Measurement ['PauliZ', 'PauliZ'] on wires <Wires = [0, 1]>\n",
      "Measurement ['PauliY', 'PauliX', 'PauliX', 'PauliY'] on wires <Wires = [0, 1, 2, 3]>\n",
      "Measurement ['PauliY', 'PauliY', 'PauliX', 'PauliX'] on wires <Wires = [0, 1, 2, 3]>\n",
      "Measurement ['PauliX', 'PauliX', 'PauliY', 'PauliY'] on wires <Wires = [0, 1, 2, 3]>\n",
      "Measurement ['PauliX', 'PauliY', 'PauliY', 'PauliX'] on wires <Wires = [0, 1, 2, 3]>\n",
      "Measurement PauliZ on wires <Wires = [2]>\n",
      "Measurement ['PauliZ', 'PauliZ'] on wires <Wires = [0, 2]>\n",
      "Measurement PauliZ on wires <Wires = [3]>\n",
      "Measurement ['PauliZ', 'PauliZ'] on wires <Wires = [0, 3]>\n",
      "Measurement ['PauliZ', 'PauliZ'] on wires <Wires = [1, 2]>\n",
      "Measurement ['PauliZ', 'PauliZ'] on wires <Wires = [1, 3]>\n",
      "Measurement ['PauliZ', 'PauliZ'] on wires <Wires = [2, 3]>\n"
     ]
    }
   ],
   "source": [
    "import time\n",
    "import dask\n",
    "\n",
    "import matplotlib.pyplot as plt\n",
    "from pennylane import numpy as np\n",
    "import pennylane as qml\n",
    "from pennylane import qchem\n",
    "\n",
    "##############################################################################\n",
    "# .. warning::\n",
    "#\n",
    "#    This demonstration contains features like ``qml.ExpvalCost`` that are now deprecated and will soon be removed from PennyLane.\n",
    "#\n",
    "# This tutorial requires the ``pennylane-forest`` and ``dask``\n",
    "# packages, which are installed separately using:\n",
    "#\n",
    "# .. code-block:: bash\n",
    "#\n",
    "#    pip install pennylane-forest\n",
    "#    pip install \"dask[delayed]\"\n",
    "#\n",
    "# Finding the qubit Hamiltonians of :math:`H_{2}`\n",
    "# -----------------------------------------------\n",
    "#\n",
    "# The objective of this tutorial is to evaluate the potential energy surface of molecular\n",
    "# hydrogen. This is achieved by finding the ground state energy of :math:`H_{2}` as we increase\n",
    "# the bond length between the hydrogen atoms.\n",
    "#\n",
    "# Each inter-atomic distance results in a different qubit Hamiltonian. To find the corresponding\n",
    "# Hamiltonian, we use the :func:`~.pennylane.qchem.molecular_hamiltonian` function of the\n",
    "# :mod:`~.pennylane.qchem` package. Further details on the mapping from the electronic\n",
    "# Hamiltonian of a molecule to a qubit Hamiltonian can be found in the\n",
    "# :doc:`tutorial_quantum_chemistry` and :doc:`tutorial_vqe`\n",
    "# tutorials.\n",
    "#\n",
    "# We begin by creating a dictionary containing a selection of bond lengths and corresponding data\n",
    "# files saved in `XYZ <https://en.wikipedia.org/wiki/XYZ_file_format>`__ format. These files\n",
    "# follow a standard format for specifying the geometry of a molecule and can be downloaded as a\n",
    "# Zip from :download:`here <../demonstrations/vqe_parallel/vqe_parallel.zip>`.\n",
    "\n",
    "data = {  # keys: atomic separations (in Angstroms), values: corresponding files\n",
    "    0.3: \"vqe_parallel/h2_0.30.xyz\",\n",
    "    0.5: \"vqe_parallel/h2_0.50.xyz\",\n",
    "    0.7: \"vqe_parallel/h2_0.70.xyz\",\n",
    "    0.9: \"vqe_parallel/h2_0.90.xyz\",\n",
    "    1.1: \"vqe_parallel/h2_1.10.xyz\",\n",
    "    1.3: \"vqe_parallel/h2_1.30.xyz\",\n",
    "    1.5: \"vqe_parallel/h2_1.50.xyz\",\n",
    "    1.7: \"vqe_parallel/h2_1.70.xyz\",\n",
    "    1.9: \"vqe_parallel/h2_1.90.xyz\",\n",
    "    2.1: \"vqe_parallel/h2_2.10.xyz\",\n",
    "}\n",
    "\n",
    "##############################################################################\n",
    "# The next step is to create the qubit Hamiltonians for each value of the inter-atomic distance.\n",
    "# We do this by first reading the molecular geometry from the external file using the\n",
    "# :func:`~.pennylane.qchem.read_structure` function and passing the atomic symbols\n",
    "# and coordinates to :func:`~.pennylane.qchem.molecular_hamiltonian`.\n",
    "\n",
    "\n",
    "hamiltonians = []\n",
    "\n",
    "for separation, file in data.items():\n",
    "    symbols, coordinates = qchem.read_structure(file)\n",
    "    h = qchem.molecular_hamiltonian(symbols, coordinates, name=str(separation))[0]\n",
    "    hamiltonians.append(h)\n",
    "\n",
    "##############################################################################\n",
    "# Each Hamiltonian can be written as a linear combination of fifteen tensor products of Pauli\n",
    "# matrices. Let's take a look more closely at one of the Hamiltonians:\n",
    "\n",
    "h = hamiltonians[0]\n",
    "\n",
    "print(\"Number of terms: {}\\n\".format(len(h.ops)))\n",
    "for op in h.ops:\n",
    "    print(\"Measurement {} on wires {}\".format(op.name, op.wires))\n",
    "\n",
    "##############################################################################\n",
    "# .. rst-class:: sphx-glr-script-out\n",
    "#\n",
    "#  Out:\n",
    "#\n",
    "#  .. code-block:: none\n",
    "#\n",
    "#    Number of terms: 15\n",
    "#\n",
    "#    Measurement Identity on wires <Wires = [0]>\n",
    "#    Measurement PauliZ on wires <Wires = [0]>\n",
    "#    Measurement PauliZ on wires <Wires = [1]>\n",
    "#    Measurement PauliZ on wires <Wires = [2]>\n",
    "#    Measurement PauliZ on wires <Wires = [3]>\n",
    "#    Measurement ['PauliZ', 'PauliZ'] on wires <Wires = [0, 1]>\n",
    "#    Measurement ['PauliY', 'PauliX', 'PauliX', 'PauliY'] on wires <Wires = [0, 1, 2, 3]>\n",
    "#    Measurement ['PauliY', 'PauliY', 'PauliX', 'PauliX'] on wires <Wires = [0, 1, 2, 3]>\n",
    "#    Measurement ['PauliX', 'PauliX', 'PauliY', 'PauliY'] on wires <Wires = [0, 1, 2, 3]>\n",
    "#    Measurement ['PauliX', 'PauliY', 'PauliY', 'PauliX'] on wires <Wires = [0, 1, 2, 3]>\n",
    "#    Measurement ['PauliZ', 'PauliZ'] on wires <Wires = [0, 2]>\n",
    "#    Measurement ['PauliZ', 'PauliZ'] on wires <Wires = [0, 3]>\n",
    "#    Measurement ['PauliZ', 'PauliZ'] on wires <Wires = [1, 2]>\n",
    "#    Measurement ['PauliZ', 'PauliZ'] on wires <Wires = [1, 3]>\n",
    "#    Measurement ['PauliZ', 'PauliZ'] on wires <Wires = [2, 3]>\n",
    "\n",
    "##############################################################################\n",
    "# Defining the energy function\n",
    "# ----------------------------\n",
    "#\n",
    "# The fifteen Pauli terms comprising each Hamiltonian can conventionally be evaluated in a\n",
    "# sequential manner: we evaluate one expectation value at a time before moving on to the next.\n",
    "# However, this task is highly suited to parallelization. With access to multiple QPUs,\n",
    "# we can split up evaluating the terms between the QPUs and gain an increase in processing speed.\n",
    "#\n",
    "#\n",
    "# .. note::\n",
    "#    Some of the Pauli terms commute, and so they can be evaluated in practice with fewer than\n",
    "#    fifteen quantum circuit runs. Nevertheless, these quantum circuit runs can still be\n",
    "#    parallelized to multiple QPUs.\n",
    "#\n",
    "# Let's suppose we have access to two quantum devices. In this tutorial we consider two\n",
    "# simulators from Rigetti: ``4q-qvm`` and ``9q-square-qvm``, but we could also run on hardware\n",
    "# devices from Rigetti or other providers.\n",
    "#\n",
    "# We can evaluate the expectation value of each Hamiltonian with eight terms run on\n",
    "# one device and seven terms run on the other, as summarized by the diagram below:\n",
    "#\n",
    "# .. figure:: /demonstrations/vqe_parallel/vqe_diagram.png\n",
    "#    :width: 65%\n",
    "#    :align: center\n",
    "#\n",
    "# To do this, start by instantiating a device for each term:\n",
    "\n",
    "dev1 = [qml.device(\"forest.qvm\", device=\"4q-qvm\") for _ in range(8)]\n",
    "dev2 = [qml.device(\"forest.qvm\", device=\"9q-square-qvm\") for _ in range(7)]\n",
    "devs = dev1 + dev2\n",
    "\n",
    "##############################################################################\n",
    "# .. note::\n",
    "#\n",
    "#     For the purposes of this demonstration, we are simulating the QPUs using the\n",
    "#     ``forest.qvm`` simulator. To run this demonstration on hardware, simply\n",
    "#     swap ``forest.qvm`` for ``forest.qpu`` and specify the hardware device to run on.\n",
    "#\n",
    "#     Please refer to the `Rigetti website <https://rigetti.com/>`__ for an up-to-date\n",
    "#     list on available QPUs.\n",
    "#\n",
    "# .. warning::\n",
    "#    Rigetti's QVM and Quil Compiler services must be running for this tutorial to execute. They\n",
    "#    can be installed by consulting the `Rigetti documentation\n",
    "#    <http://docs.rigetti.com/qcs/>`__ or, for users with Docker, by running:\n",
    "#\n",
    "#    .. code-block:: bash\n",
    "#\n",
    "#        docker run -d -p 5555:5555 rigetti/quilc -R -p 5555\n",
    "#        docker run -d -p 5000:5000 rigetti/qvm -S -p 5000\n",
    "#\n",
    "# We must also define a circuit to prepare the ground state, which is a superposition of the\n",
    "# Hartree-Fock (:math:`|1100\\rangle`) and doubly-excited (:math:`|0011\\rangle`) configurations.\n",
    "# The simple circuit below is able to prepare states of the form :math:`\\alpha |1100\\rangle +\n",
    "# \\beta |0011\\rangle` and hence encode the ground state wave function of the hydrogen molecule. The\n",
    "# circuit has a single free parameter, which controls a Y-rotation on the third qubit.\n",
    "\n",
    "\n",
    "def circuit(param, H):\n",
    "    qml.BasisState(np.array([1, 1, 0, 0], requires_grad=False), wires=[0, 1, 2, 3])\n",
    "    qml.RY(param, wires=2)\n",
    "    qml.CNOT(wires=[2, 3])\n",
    "    qml.CNOT(wires=[2, 0])\n",
    "    qml.CNOT(wires=[3, 1])\n",
    "    return qml.expval(H)\n",
    "\n",
    "\n",
    "##############################################################################\n",
    "# The ground state for each inter-atomic distance is characterized by a different Y-rotation angle.\n",
    "# The values of these Y-rotations can be found by minimizing the ground state energy as outlined in\n",
    "# :doc:`tutorial_vqe`. In this tutorial, we load pre-optimized rotations and focus on\n",
    "# comparing the speed of evaluating the potential energy surface with sequential and parallel\n",
    "# evaluation. These parameters can be downloaded by clicking :download:`here\n",
    "# <../demonstrations/vqe_parallel/RY_params.npy>`.\n",
    "\n",
    "params = np.load(\"vqe_parallel/RY_params.npy\")\n",
    "\n",
    "##############################################################################\n",
    "# Calculating the potential energy surface\n",
    "# ----------------------------------------\n",
    "# The most vanilla execution of these 10 energy surfaces is using the standard PennyLane functionalities by executing the QNodes.\n",
    "# Internally, this creates a measurement for each term in the Hamiltonian that are then sequentially computed."
   ]
  },
  {
   "cell_type": "code",
   "execution_count": 11,
   "metadata": {},
   "outputs": [],
   "source": [
    "H = hamiltonians[0]"
   ]
  },
  {
   "cell_type": "code",
   "execution_count": 17,
   "metadata": {},
   "outputs": [],
   "source": [
    "obs_groupings, coeffs_groupings = qml.grouping.group_observables(H.ops, H.coeffs, \"commuting\")"
   ]
  },
  {
   "cell_type": "code",
   "execution_count": 18,
   "metadata": {},
   "outputs": [
    {
     "data": {
      "text/plain": [
       "2"
      ]
     },
     "execution_count": 18,
     "metadata": {},
     "output_type": "execute_result"
    }
   ],
   "source": [
    "len(obs_groupings)"
   ]
  },
  {
   "cell_type": "code",
   "execution_count": null,
   "metadata": {},
   "outputs": [],
   "source": []
  },
  {
   "cell_type": "code",
   "execution_count": 88,
   "metadata": {},
   "outputs": [
    {
     "name": "stdout",
     "output_type": "stream",
     "text": [
      "Evaluating the potential energy surface sequantially\n",
      "1 / 10: Sequential execution; Running for inter-atomic distance 0.3 Å\n",
      "2 / 10: Sequential execution; Running for inter-atomic distance 0.5 Å\n",
      "3 / 10: Sequential execution; Running for inter-atomic distance 0.7 Å\n",
      "4 / 10: Sequential execution; Running for inter-atomic distance 0.9 Å\n",
      "5 / 10: Sequential execution; Running for inter-atomic distance 1.1 Å\n",
      "6 / 10: Sequential execution; Running for inter-atomic distance 1.3 Å\n",
      "7 / 10: Sequential execution; Running for inter-atomic distance 1.5 Å\n",
      "8 / 10: Sequential execution; Running for inter-atomic distance 1.7 Å\n",
      "9 / 10: Sequential execution; Running for inter-atomic distance 1.9 Å\n",
      "10 / 10: Sequential execution; Running for inter-atomic distance 2.1 Å\n",
      "Evaluation time: 21.01 s\n"
     ]
    }
   ],
   "source": [
    "print(\"Evaluating the potential energy surface sequantially\")\n",
    "t0 = time.time()\n",
    "\n",
    "energies_seq = []\n",
    "for i, (h, param) in enumerate(zip(hamiltonians, params)):\n",
    "    print(f\"{i+1} / {len(params)}: Sequential execution; Running for inter-atomic distance {list(data.keys())[i]} Å\")\n",
    "    energies_seq.append(qml.QNode(circuit, devs[0])(param, h))\n",
    "\n",
    "dt_seq = time.time() - t0\n",
    "\n",
    "print(f\"Evaluation time: {dt_seq:.2f} s\")"
   ]
  },
  {
   "cell_type": "code",
   "execution_count": 89,
   "metadata": {},
   "outputs": [
    {
     "name": "stdout",
     "output_type": "stream",
     "text": [
      "Evaluating the potential energy surface sequantially\n",
      "1 / 10: Sequential execution; Running for inter-atomic distance 0.3 Å\n",
      "2 / 10: Sequential execution; Running for inter-atomic distance 0.5 Å\n",
      "3 / 10: Sequential execution; Running for inter-atomic distance 0.7 Å\n",
      "4 / 10: Sequential execution; Running for inter-atomic distance 0.9 Å\n",
      "5 / 10: Sequential execution; Running for inter-atomic distance 1.1 Å\n",
      "6 / 10: Sequential execution; Running for inter-atomic distance 1.3 Å\n",
      "7 / 10: Sequential execution; Running for inter-atomic distance 1.5 Å\n",
      "8 / 10: Sequential execution; Running for inter-atomic distance 1.7 Å\n",
      "9 / 10: Sequential execution; Running for inter-atomic distance 1.9 Å\n",
      "10 / 10: Sequential execution; Running for inter-atomic distance 2.1 Å\n",
      "Evaluation time: 20.99 s\n"
     ]
    }
   ],
   "source": [
    "print(\"Evaluating the potential energy surface sequantially\")\n",
    "t0 = time.time()\n",
    "\n",
    "energies_seq = []\n",
    "for i, (h, param) in enumerate(zip(hamiltonians, params)):\n",
    "    H_par = qml.Hamiltonian(h.coeffs, h.ops, grouping_type=\"qwc\")\n",
    "    print(f\"{i+1} / {len(params)}: Sequential execution; Running for inter-atomic distance {list(data.keys())[i]} Å\")\n",
    "    energies_seq.append(qml.QNode(circuit, devs[0])(param, h))\n",
    "\n",
    "dt_seq = time.time() - t0\n",
    "\n",
    "print(f\"Evaluation time: {dt_seq:.2f} s\")"
   ]
  },
  {
   "cell_type": "code",
   "execution_count": 90,
   "metadata": {},
   "outputs": [
    {
     "data": {
      "text/plain": [
       "([[Identity(wires=[0]),\n",
       "   PauliY(wires=[0]) @ PauliX(wires=[1]) @ PauliX(wires=[2]) @ PauliY(wires=[3])],\n",
       "  [PauliY(wires=[0]) @ PauliY(wires=[1]) @ PauliX(wires=[2]) @ PauliX(wires=[3])],\n",
       "  [PauliX(wires=[0]) @ PauliX(wires=[1]) @ PauliY(wires=[2]) @ PauliY(wires=[3])],\n",
       "  [PauliX(wires=[0]) @ PauliY(wires=[1]) @ PauliY(wires=[2]) @ PauliX(wires=[3])],\n",
       "  [PauliZ(wires=[0]),\n",
       "   PauliZ(wires=[1]),\n",
       "   PauliZ(wires=[0]) @ PauliZ(wires=[1]),\n",
       "   PauliZ(wires=[2]),\n",
       "   PauliZ(wires=[0]) @ PauliZ(wires=[2]),\n",
       "   PauliZ(wires=[3]),\n",
       "   PauliZ(wires=[0]) @ PauliZ(wires=[3]),\n",
       "   PauliZ(wires=[1]) @ PauliZ(wires=[2]),\n",
       "   PauliZ(wires=[1]) @ PauliZ(wires=[3]),\n",
       "   PauliZ(wires=[2]) @ PauliZ(wires=[3])]],\n",
       " [tensor([1.30072384, 0.04020463], requires_grad=True),\n",
       "  tensor([-0.04020463], requires_grad=True),\n",
       "  tensor([-0.04020463], requires_grad=True),\n",
       "  tensor([0.04020463], requires_grad=True),\n",
       "  tensor([ 0.25869154,  0.25869154,  0.18800464, -0.54995735,  0.14527089,\n",
       "          -0.54995735,  0.18547552,  0.18547552,  0.14527089,  0.19623437], requires_grad=True)])"
      ]
     },
     "execution_count": 90,
     "metadata": {},
     "output_type": "execute_result"
    }
   ],
   "source": [
    "H = hamiltonians[0]\n",
    "qml.grouping.group_observables(H.ops, H.coeffs, \"qwc\")"
   ]
  },
  {
   "cell_type": "code",
   "execution_count": 91,
   "metadata": {},
   "outputs": [
    {
     "data": {
      "text/plain": [
       "([[Identity(wires=[0]),\n",
       "   PauliZ(wires=[0]),\n",
       "   PauliZ(wires=[1]),\n",
       "   PauliZ(wires=[0]) @ PauliZ(wires=[1]),\n",
       "   PauliZ(wires=[2]),\n",
       "   PauliZ(wires=[0]) @ PauliZ(wires=[2]),\n",
       "   PauliZ(wires=[3]),\n",
       "   PauliZ(wires=[0]) @ PauliZ(wires=[3]),\n",
       "   PauliZ(wires=[1]) @ PauliZ(wires=[2]),\n",
       "   PauliZ(wires=[1]) @ PauliZ(wires=[3]),\n",
       "   PauliZ(wires=[2]) @ PauliZ(wires=[3])],\n",
       "  [PauliY(wires=[0]) @ PauliX(wires=[1]) @ PauliX(wires=[2]) @ PauliY(wires=[3]),\n",
       "   PauliY(wires=[0]) @ PauliY(wires=[1]) @ PauliX(wires=[2]) @ PauliX(wires=[3]),\n",
       "   PauliX(wires=[0]) @ PauliX(wires=[1]) @ PauliY(wires=[2]) @ PauliY(wires=[3]),\n",
       "   PauliX(wires=[0]) @ PauliY(wires=[1]) @ PauliY(wires=[2]) @ PauliX(wires=[3])]],\n",
       " [tensor([ 1.30072384,  0.25869154,  0.25869154,  0.18800464, -0.54995735,\n",
       "           0.14527089, -0.54995735,  0.18547552,  0.18547552,  0.14527089,\n",
       "           0.19623437], requires_grad=True),\n",
       "  tensor([ 0.04020463, -0.04020463, -0.04020463,  0.04020463], requires_grad=True)])"
      ]
     },
     "execution_count": 91,
     "metadata": {},
     "output_type": "execute_result"
    }
   ],
   "source": [
    "H = hamiltonians[0]\n",
    "qml.grouping.group_observables(H.ops, H.coeffs, \"commuting\")"
   ]
  },
  {
   "cell_type": "code",
   "execution_count": 83,
   "metadata": {},
   "outputs": [
    {
     "name": "stdout",
     "output_type": "stream",
     "text": [
      "Evaluating the potential energy surface in parallel\n",
      "1 / 10: Parallel execution; Running for inter-atomic distance 0.3 Å\n",
      "2 / 10: Parallel execution; Running for inter-atomic distance 0.5 Å\n",
      "3 / 10: Parallel execution; Running for inter-atomic distance 0.7 Å\n",
      "4 / 10: Parallel execution; Running for inter-atomic distance 0.9 Å\n",
      "5 / 10: Parallel execution; Running for inter-atomic distance 1.1 Å\n",
      "6 / 10: Parallel execution; Running for inter-atomic distance 1.3 Å\n",
      "7 / 10: Parallel execution; Running for inter-atomic distance 1.5 Å\n",
      "8 / 10: Parallel execution; Running for inter-atomic distance 1.7 Å\n",
      "9 / 10: Parallel execution; Running for inter-atomic distance 1.9 Å\n",
      "10 / 10: Parallel execution; Running for inter-atomic distance 2.1 Å\n",
      "Evaluation time: 72.24 s\n"
     ]
    }
   ],
   "source": [
    "def compute_energy_parallel(H, devs, param):\n",
    "    assert len(H.ops) == len(devs)\n",
    "    results = []\n",
    "\n",
    "    for i in range(len(H.ops)):\n",
    "        qnode = qml.QNode(circuit, devs[i])\n",
    "        results.append(dask.delayed(qnode)(param, H.ops[i]))\n",
    "\n",
    "    result = H.coeffs @ dask.compute(*results, scheduler=\"threads\")\n",
    "    return result\n",
    "\n",
    "##############################################################################\n",
    "# We can now compute all 10 different energy surfaces sequentially, where each execution is making use of \n",
    "# parallel device execution.\n",
    "\n",
    "print(\"Evaluating the potential energy surface in parallel\")\n",
    "t0 = time.time()\n",
    "\n",
    "energies_par = []\n",
    "for i, (h, param) in enumerate(zip(hamiltonians, params)):\n",
    "    print(f\"{i+1} / {len(params)}: Parallel execution; Running for inter-atomic distance {list(data.keys())[i]} Å\")\n",
    "    energies_par.append(compute_energy_parallel(h, devs, param))\n",
    "\n",
    "dt_par = time.time() - t0\n",
    "\n",
    "print(f\"Evaluation time: {dt_par:.2f} s\")"
   ]
  },
  {
   "cell_type": "code",
   "execution_count": 86,
   "metadata": {},
   "outputs": [
    {
     "name": "stdout",
     "output_type": "stream",
     "text": [
      "Evaluating the potential energy surface in parallel with measurement optimization\n",
      "1 / 10: Parallel execution and measurement optimization; Running for inter-atomic distance 0.3 Å\n",
      "2 / 10: Parallel execution and measurement optimization; Running for inter-atomic distance 0.5 Å\n",
      "3 / 10: Parallel execution and measurement optimization; Running for inter-atomic distance 0.7 Å\n",
      "4 / 10: Parallel execution and measurement optimization; Running for inter-atomic distance 0.9 Å\n",
      "5 / 10: Parallel execution and measurement optimization; Running for inter-atomic distance 1.1 Å\n",
      "6 / 10: Parallel execution and measurement optimization; Running for inter-atomic distance 1.3 Å\n",
      "7 / 10: Parallel execution and measurement optimization; Running for inter-atomic distance 1.5 Å\n",
      "8 / 10: Parallel execution and measurement optimization; Running for inter-atomic distance 1.7 Å\n",
      "9 / 10: Parallel execution and measurement optimization; Running for inter-atomic distance 1.9 Å\n",
      "10 / 10: Parallel execution and measurement optimization; Running for inter-atomic distance 2.1 Å\n",
      "Evaluation time: 27.28 s\n"
     ]
    }
   ],
   "source": [
    "def compute_energy_parallel_optimized(H, devs, param):\n",
    "    assert len(H.ops) == len(devs)\n",
    "    results = []\n",
    "\n",
    "    obs_groupings, coeffs_groupings = qml.grouping.group_observables(H.ops, H.coeffs, \"qwc\")\n",
    "\n",
    "    for i, (obs, coeffs) in enumerate(zip(obs_groupings, coeffs_groupings)):\n",
    "        H_part = qml.Hamiltonian(coeffs, obs)\n",
    "        qnode = qml.QNode(circuit, devs[i])\n",
    "        results.append(dask.delayed(qnode)(param, H_part))\n",
    "\n",
    "    result = qml.math.sum(dask.compute(*results, scheduler=\"threads\"))\n",
    "    return result\n",
    "\n",
    "print(\"Evaluating the potential energy surface in parallel with measurement optimization\")\n",
    "t0 = time.time()\n",
    "\n",
    "energies_par_opt = []\n",
    "for i, (h, param) in enumerate(zip(hamiltonians, params)):\n",
    "    print(f\"{i+1} / {len(params)}: Parallel execution and measurement optimization; Running for inter-atomic distance {list(data.keys())[i]} Å\")\n",
    "    energies_par_opt.append(compute_energy_parallel_optimized(h, devs, param))\n",
    "\n",
    "dt_par_opt = time.time() - t0\n",
    "\n",
    "print(f\"Evaluation time: {dt_par_opt:.2f} s\")"
   ]
  },
  {
   "cell_type": "code",
   "execution_count": 87,
   "metadata": {},
   "outputs": [
    {
     "name": "stdout",
     "output_type": "stream",
     "text": [
      "Evaluating the potential energy surface in parallel with measurement optimization\n",
      "1 / 10: Parallel execution and measurement optimization; Running for inter-atomic distance 0.3 Å\n",
      "2 / 10: Parallel execution and measurement optimization; Running for inter-atomic distance 0.5 Å\n",
      "3 / 10: Parallel execution and measurement optimization; Running for inter-atomic distance 0.7 Å\n",
      "4 / 10: Parallel execution and measurement optimization; Running for inter-atomic distance 0.9 Å\n",
      "5 / 10: Parallel execution and measurement optimization; Running for inter-atomic distance 1.1 Å\n",
      "6 / 10: Parallel execution and measurement optimization; Running for inter-atomic distance 1.3 Å\n",
      "7 / 10: Parallel execution and measurement optimization; Running for inter-atomic distance 1.5 Å\n",
      "8 / 10: Parallel execution and measurement optimization; Running for inter-atomic distance 1.7 Å\n",
      "9 / 10: Parallel execution and measurement optimization; Running for inter-atomic distance 1.9 Å\n",
      "10 / 10: Parallel execution and measurement optimization; Running for inter-atomic distance 2.1 Å\n",
      "Evaluation time: 16.50 s\n"
     ]
    }
   ],
   "source": [
    "def compute_energy_parallel_optimized(H, devs, param):\n",
    "    assert len(H.ops) == len(devs)\n",
    "    results = []\n",
    "\n",
    "    obs_groupings, coeffs_groupings = qml.grouping.group_observables(H.ops, H.coeffs, \"commuting\")\n",
    "\n",
    "    for i, (obs, coeffs) in enumerate(zip(obs_groupings, coeffs_groupings)):\n",
    "        H_part = qml.Hamiltonian(coeffs, obs)\n",
    "        qnode = qml.QNode(circuit, devs[i])\n",
    "        results.append(dask.delayed(qnode)(param, H_part))\n",
    "\n",
    "    result = qml.math.sum(dask.compute(*results, scheduler=\"threads\"))\n",
    "    return result\n",
    "\n",
    "print(\"Evaluating the potential energy surface in parallel with measurement optimization\")\n",
    "t0 = time.time()\n",
    "\n",
    "energies_par_opt = []\n",
    "for i, (h, param) in enumerate(zip(hamiltonians, params)):\n",
    "    print(f\"{i+1} / {len(params)}: Parallel execution and measurement optimization; Running for inter-atomic distance {list(data.keys())[i]} Å\")\n",
    "    energies_par_opt.append(compute_energy_parallel_optimized(h, devs, param))\n",
    "\n",
    "dt_par_opt = time.time() - t0\n",
    "\n",
    "print(f\"Evaluation time: {dt_par_opt:.2f} s\")"
   ]
  },
  {
   "cell_type": "markdown",
   "metadata": {},
   "source": [
    "# More general example"
   ]
  },
  {
   "cell_type": "code",
   "execution_count": 1,
   "metadata": {},
   "outputs": [],
   "source": [
    "import time\n",
    "import dask\n",
    "\n",
    "import matplotlib.pyplot as plt\n",
    "from pennylane import numpy as np\n",
    "import pennylane as qml"
   ]
  },
  {
   "cell_type": "code",
   "execution_count": 2,
   "metadata": {},
   "outputs": [],
   "source": [
    "symbols, coordinates = (['H', 'Be', 'H'], np.array([0., 0., -0.66140414, 0., 0., 0., 0., 0., 0.66140414]))\n",
    "H, n_wires = qml.qchem.molecular_hamiltonian(symbols, coordinates)\n",
    "devs = [qml.device(\"forest.qvm\", device=f\"{n_wires}q-qvm\") for _ in range(5)]"
   ]
  },
  {
   "cell_type": "code",
   "execution_count": 3,
   "metadata": {},
   "outputs": [],
   "source": [
    "def circuit(params, H):\n",
    "    qml.StronglyEntanglingLayers(params, wires=range(n_wires))\n",
    "    return qml.expval(H)\n",
    "\n",
    "params = np.random.rand(2,n_wires,3)\n"
   ]
  },
  {
   "cell_type": "code",
   "execution_count": 5,
   "metadata": {},
   "outputs": [
    {
     "ename": "KeyboardInterrupt",
     "evalue": "",
     "output_type": "error",
     "traceback": [
      "\u001b[0;31m---------------------------------------------------------------------------\u001b[0m",
      "\u001b[0;31mKeyboardInterrupt\u001b[0m                         Traceback (most recent call last)",
      "\u001b[1;32m/home/qottmann/Qottmann/Xanadu/qml/demonstrations/vqe_parallel.ipynb Cell 17'\u001b[0m in \u001b[0;36m<cell line: 5>\u001b[0;34m()\u001b[0m\n\u001b[1;32m      <a href='vscode-notebook-cell://wsl%2Bubuntu-20.04/home/qottmann/Qottmann/Xanadu/qml/demonstrations/vqe_parallel.ipynb#ch0000033vscode-remote?line=1'>2</a>\u001b[0m dev \u001b[39m=\u001b[39m devs[\u001b[39m0\u001b[39m]\n\u001b[1;32m      <a href='vscode-notebook-cell://wsl%2Bubuntu-20.04/home/qottmann/Qottmann/Xanadu/qml/demonstrations/vqe_parallel.ipynb#ch0000033vscode-remote?line=3'>4</a>\u001b[0m t0 \u001b[39m=\u001b[39m time\u001b[39m.\u001b[39mtime()\n\u001b[0;32m----> <a href='vscode-notebook-cell://wsl%2Bubuntu-20.04/home/qottmann/Qottmann/Xanadu/qml/demonstrations/vqe_parallel.ipynb#ch0000033vscode-remote?line=4'>5</a>\u001b[0m E_seq \u001b[39m=\u001b[39m qml\u001b[39m.\u001b[39;49mQNode(circuit, dev)(params, H)\n\u001b[1;32m      <a href='vscode-notebook-cell://wsl%2Bubuntu-20.04/home/qottmann/Qottmann/Xanadu/qml/demonstrations/vqe_parallel.ipynb#ch0000033vscode-remote?line=5'>6</a>\u001b[0m dt_seq \u001b[39m=\u001b[39m time\u001b[39m.\u001b[39mtime() \u001b[39m-\u001b[39m t0\n\u001b[1;32m      <a href='vscode-notebook-cell://wsl%2Bubuntu-20.04/home/qottmann/Qottmann/Xanadu/qml/demonstrations/vqe_parallel.ipynb#ch0000033vscode-remote?line=7'>8</a>\u001b[0m \u001b[39mprint\u001b[39m(\u001b[39mf\u001b[39m\u001b[39m\"\u001b[39m\u001b[39mEvaluation time with standard expval: \u001b[39m\u001b[39m{\u001b[39;00mdt_seq\u001b[39m:\u001b[39;00m\u001b[39m.2f\u001b[39m\u001b[39m}\u001b[39;00m\u001b[39m s\u001b[39m\u001b[39m\"\u001b[39m)\n",
      "File \u001b[0;32m~/anaconda3/envs/qml/lib/python3.8/site-packages/pennylane/qnode.py:619\u001b[0m, in \u001b[0;36mQNode.__call__\u001b[0;34m(self, *args, **kwargs)\u001b[0m\n\u001b[1;32m    612\u001b[0m using_custom_cache \u001b[39m=\u001b[39m (\n\u001b[1;32m    613\u001b[0m     \u001b[39mhasattr\u001b[39m(cache, \u001b[39m\"\u001b[39m\u001b[39m__getitem__\u001b[39m\u001b[39m\"\u001b[39m)\n\u001b[1;32m    614\u001b[0m     \u001b[39mand\u001b[39;00m \u001b[39mhasattr\u001b[39m(cache, \u001b[39m\"\u001b[39m\u001b[39m__setitem__\u001b[39m\u001b[39m\"\u001b[39m)\n\u001b[1;32m    615\u001b[0m     \u001b[39mand\u001b[39;00m \u001b[39mhasattr\u001b[39m(cache, \u001b[39m\"\u001b[39m\u001b[39m__delitem__\u001b[39m\u001b[39m\"\u001b[39m)\n\u001b[1;32m    616\u001b[0m )\n\u001b[1;32m    617\u001b[0m \u001b[39mself\u001b[39m\u001b[39m.\u001b[39m_tape_cached \u001b[39m=\u001b[39m using_custom_cache \u001b[39mand\u001b[39;00m \u001b[39mself\u001b[39m\u001b[39m.\u001b[39mtape\u001b[39m.\u001b[39mhash \u001b[39min\u001b[39;00m cache\n\u001b[0;32m--> 619\u001b[0m res \u001b[39m=\u001b[39m qml\u001b[39m.\u001b[39;49mexecute(\n\u001b[1;32m    620\u001b[0m     [\u001b[39mself\u001b[39;49m\u001b[39m.\u001b[39;49mtape],\n\u001b[1;32m    621\u001b[0m     device\u001b[39m=\u001b[39;49m\u001b[39mself\u001b[39;49m\u001b[39m.\u001b[39;49mdevice,\n\u001b[1;32m    622\u001b[0m     gradient_fn\u001b[39m=\u001b[39;49m\u001b[39mself\u001b[39;49m\u001b[39m.\u001b[39;49mgradient_fn,\n\u001b[1;32m    623\u001b[0m     interface\u001b[39m=\u001b[39;49m\u001b[39mself\u001b[39;49m\u001b[39m.\u001b[39;49minterface,\n\u001b[1;32m    624\u001b[0m     gradient_kwargs\u001b[39m=\u001b[39;49m\u001b[39mself\u001b[39;49m\u001b[39m.\u001b[39;49mgradient_kwargs,\n\u001b[1;32m    625\u001b[0m     override_shots\u001b[39m=\u001b[39;49moverride_shots,\n\u001b[1;32m    626\u001b[0m     \u001b[39m*\u001b[39;49m\u001b[39m*\u001b[39;49m\u001b[39mself\u001b[39;49m\u001b[39m.\u001b[39;49mexecute_kwargs,\n\u001b[1;32m    627\u001b[0m )\n\u001b[1;32m    629\u001b[0m \u001b[39mif\u001b[39;00m autograd\u001b[39m.\u001b[39misinstance(res, (\u001b[39mtuple\u001b[39m, \u001b[39mlist\u001b[39m)) \u001b[39mand\u001b[39;00m \u001b[39mlen\u001b[39m(res) \u001b[39m==\u001b[39m \u001b[39m1\u001b[39m:\n\u001b[1;32m    630\u001b[0m     \u001b[39m# If a device batch transform was applied, we need to 'unpack'\u001b[39;00m\n\u001b[1;32m    631\u001b[0m     \u001b[39m# the returned tuple/list to a float.\u001b[39;00m\n\u001b[0;32m   (...)\u001b[0m\n\u001b[1;32m    638\u001b[0m     \u001b[39m# TODO: find a more explicit way of determining that a batch transform\u001b[39;00m\n\u001b[1;32m    639\u001b[0m     \u001b[39m# was applied.\u001b[39;00m\n\u001b[1;32m    641\u001b[0m     res \u001b[39m=\u001b[39m res[\u001b[39m0\u001b[39m]\n",
      "File \u001b[0;32m~/anaconda3/envs/qml/lib/python3.8/site-packages/pennylane/interfaces/execution.py:414\u001b[0m, in \u001b[0;36mexecute\u001b[0;34m(tapes, device, gradient_fn, interface, mode, gradient_kwargs, cache, cachesize, max_diff, override_shots, expand_fn, max_expansion, device_batch_transform)\u001b[0m\n\u001b[1;32m    408\u001b[0m \u001b[39mexcept\u001b[39;00m \u001b[39mImportError\u001b[39;00m \u001b[39mas\u001b[39;00m e:\n\u001b[1;32m    409\u001b[0m     \u001b[39mraise\u001b[39;00m qml\u001b[39m.\u001b[39mQuantumFunctionError(\n\u001b[1;32m    410\u001b[0m         \u001b[39mf\u001b[39m\u001b[39m\"\u001b[39m\u001b[39m{\u001b[39;00mmapped_interface\u001b[39m}\u001b[39;00m\u001b[39m not found. Please install the latest \u001b[39m\u001b[39m\"\u001b[39m\n\u001b[1;32m    411\u001b[0m         \u001b[39mf\u001b[39m\u001b[39m\"\u001b[39m\u001b[39mversion of \u001b[39m\u001b[39m{\u001b[39;00mmapped_interface\u001b[39m}\u001b[39;00m\u001b[39m to enable the \u001b[39m\u001b[39m'\u001b[39m\u001b[39m{\u001b[39;00mmapped_interface\u001b[39m}\u001b[39;00m\u001b[39m'\u001b[39m\u001b[39m interface.\u001b[39m\u001b[39m\"\u001b[39m\n\u001b[1;32m    412\u001b[0m     ) \u001b[39mfrom\u001b[39;00m \u001b[39me\u001b[39;00m\n\u001b[0;32m--> 414\u001b[0m res \u001b[39m=\u001b[39m _execute(\n\u001b[1;32m    415\u001b[0m     tapes, device, execute_fn, gradient_fn, gradient_kwargs, _n\u001b[39m=\u001b[39;49m\u001b[39m1\u001b[39;49m, max_diff\u001b[39m=\u001b[39;49mmax_diff, mode\u001b[39m=\u001b[39;49m_mode\n\u001b[1;32m    416\u001b[0m )\n\u001b[1;32m    418\u001b[0m \u001b[39mreturn\u001b[39;00m batch_fn(res)\n",
      "File \u001b[0;32m~/anaconda3/envs/qml/lib/python3.8/site-packages/pennylane/interfaces/autograd.py:66\u001b[0m, in \u001b[0;36mexecute\u001b[0;34m(tapes, device, execute_fn, gradient_fn, gradient_kwargs, _n, max_diff, mode)\u001b[0m\n\u001b[1;32m     60\u001b[0m \u001b[39m# pylint misidentifies autograd.builtins as a dict\u001b[39;00m\n\u001b[1;32m     61\u001b[0m \u001b[39m# pylint: disable=no-member\u001b[39;00m\n\u001b[1;32m     62\u001b[0m parameters \u001b[39m=\u001b[39m autograd\u001b[39m.\u001b[39mbuiltins\u001b[39m.\u001b[39mtuple(\n\u001b[1;32m     63\u001b[0m     [autograd\u001b[39m.\u001b[39mbuiltins\u001b[39m.\u001b[39mlist(t\u001b[39m.\u001b[39mget_parameters()) \u001b[39mfor\u001b[39;00m t \u001b[39min\u001b[39;00m tapes]\n\u001b[1;32m     64\u001b[0m )\n\u001b[0;32m---> 66\u001b[0m \u001b[39mreturn\u001b[39;00m _execute(\n\u001b[1;32m     67\u001b[0m     parameters,\n\u001b[1;32m     68\u001b[0m     tapes\u001b[39m=\u001b[39;49mtapes,\n\u001b[1;32m     69\u001b[0m     device\u001b[39m=\u001b[39;49mdevice,\n\u001b[1;32m     70\u001b[0m     execute_fn\u001b[39m=\u001b[39;49mexecute_fn,\n\u001b[1;32m     71\u001b[0m     gradient_fn\u001b[39m=\u001b[39;49mgradient_fn,\n\u001b[1;32m     72\u001b[0m     gradient_kwargs\u001b[39m=\u001b[39;49mgradient_kwargs,\n\u001b[1;32m     73\u001b[0m     _n\u001b[39m=\u001b[39;49m_n,\n\u001b[1;32m     74\u001b[0m     max_diff\u001b[39m=\u001b[39;49mmax_diff,\n\u001b[1;32m     75\u001b[0m )[\u001b[39m0\u001b[39m]\n",
      "File \u001b[0;32m~/anaconda3/envs/qml/lib/python3.8/site-packages/autograd/tracer.py:48\u001b[0m, in \u001b[0;36mprimitive.<locals>.f_wrapped\u001b[0;34m(*args, **kwargs)\u001b[0m\n\u001b[1;32m     46\u001b[0m     \u001b[39mreturn\u001b[39;00m new_box(ans, trace, node)\n\u001b[1;32m     47\u001b[0m \u001b[39melse\u001b[39;00m:\n\u001b[0;32m---> 48\u001b[0m     \u001b[39mreturn\u001b[39;00m f_raw(\u001b[39m*\u001b[39;49margs, \u001b[39m*\u001b[39;49m\u001b[39m*\u001b[39;49mkwargs)\n",
      "File \u001b[0;32m~/anaconda3/envs/qml/lib/python3.8/site-packages/pennylane/interfaces/autograd.py:110\u001b[0m, in \u001b[0;36m_execute\u001b[0;34m(parameters, tapes, device, execute_fn, gradient_fn, gradient_kwargs, _n, max_diff)\u001b[0m\n\u001b[1;32m     89\u001b[0m \u001b[39m\"\"\"Autodifferentiable wrapper around ``Device.batch_execute``.\u001b[39;00m\n\u001b[1;32m     90\u001b[0m \n\u001b[1;32m     91\u001b[0m \u001b[39mThe signature of this function is designed to work around Autograd restrictions.\u001b[39;00m\n\u001b[0;32m   (...)\u001b[0m\n\u001b[1;32m    107\u001b[0m \u001b[39munderstand the consequences!\u001b[39;00m\n\u001b[1;32m    108\u001b[0m \u001b[39m\"\"\"\u001b[39;00m\n\u001b[1;32m    109\u001b[0m \u001b[39mwith\u001b[39;00m qml\u001b[39m.\u001b[39mtape\u001b[39m.\u001b[39mUnwrap(\u001b[39m*\u001b[39mtapes):\n\u001b[0;32m--> 110\u001b[0m     res, jacs \u001b[39m=\u001b[39m execute_fn(tapes, \u001b[39m*\u001b[39;49m\u001b[39m*\u001b[39;49mgradient_kwargs)\n\u001b[1;32m    112\u001b[0m \u001b[39mfor\u001b[39;00m i, r \u001b[39min\u001b[39;00m \u001b[39menumerate\u001b[39m(res):\n\u001b[1;32m    114\u001b[0m     \u001b[39mif\u001b[39;00m \u001b[39misinstance\u001b[39m(res[i], np\u001b[39m.\u001b[39mndarray):\n\u001b[1;32m    115\u001b[0m         \u001b[39m# For backwards compatibility, we flatten ragged tape outputs\u001b[39;00m\n\u001b[1;32m    116\u001b[0m         \u001b[39m# when there is no sampling\u001b[39;00m\n",
      "File \u001b[0;32m~/anaconda3/envs/qml/lib/python3.8/site-packages/pennylane/interfaces/execution.py:172\u001b[0m, in \u001b[0;36mcache_execute.<locals>.wrapper\u001b[0;34m(tapes, **kwargs)\u001b[0m\n\u001b[1;32m    168\u001b[0m         \u001b[39mreturn\u001b[39;00m (res, []) \u001b[39mif\u001b[39;00m return_tuple \u001b[39melse\u001b[39;00m res\n\u001b[1;32m    170\u001b[0m \u001b[39melse\u001b[39;00m:\n\u001b[1;32m    171\u001b[0m     \u001b[39m# execute all unique tapes that do not exist in the cache\u001b[39;00m\n\u001b[0;32m--> 172\u001b[0m     res \u001b[39m=\u001b[39m fn(execution_tapes\u001b[39m.\u001b[39;49mvalues(), \u001b[39m*\u001b[39;49m\u001b[39m*\u001b[39;49mkwargs)\n\u001b[1;32m    174\u001b[0m final_res \u001b[39m=\u001b[39m []\n\u001b[1;32m    176\u001b[0m \u001b[39mfor\u001b[39;00m i, tape \u001b[39min\u001b[39;00m \u001b[39menumerate\u001b[39m(tapes):\n",
      "File \u001b[0;32m~/anaconda3/envs/qml/lib/python3.8/site-packages/pennylane/interfaces/execution.py:97\u001b[0m, in \u001b[0;36mcache_execute.<locals>.fn\u001b[0;34m(tapes, **kwargs)\u001b[0m\n\u001b[1;32m     95\u001b[0m \u001b[39mdef\u001b[39;00m \u001b[39mfn\u001b[39m(tapes, \u001b[39m*\u001b[39m\u001b[39m*\u001b[39mkwargs):  \u001b[39m# pylint: disable=function-redefined\u001b[39;00m\n\u001b[1;32m     96\u001b[0m     tapes \u001b[39m=\u001b[39m [expand_fn(tape) \u001b[39mfor\u001b[39;00m tape \u001b[39min\u001b[39;00m tapes]\n\u001b[0;32m---> 97\u001b[0m     \u001b[39mreturn\u001b[39;00m original_fn(tapes, \u001b[39m*\u001b[39;49m\u001b[39m*\u001b[39;49mkwargs)\n",
      "File \u001b[0;32m~/anaconda3/envs/qml/lib/python3.8/contextlib.py:75\u001b[0m, in \u001b[0;36mContextDecorator.__call__.<locals>.inner\u001b[0;34m(*args, **kwds)\u001b[0m\n\u001b[1;32m     72\u001b[0m \u001b[39m@wraps\u001b[39m(func)\n\u001b[1;32m     73\u001b[0m \u001b[39mdef\u001b[39;00m \u001b[39minner\u001b[39m(\u001b[39m*\u001b[39margs, \u001b[39m*\u001b[39m\u001b[39m*\u001b[39mkwds):\n\u001b[1;32m     74\u001b[0m     \u001b[39mwith\u001b[39;00m \u001b[39mself\u001b[39m\u001b[39m.\u001b[39m_recreate_cm():\n\u001b[0;32m---> 75\u001b[0m         \u001b[39mreturn\u001b[39;00m func(\u001b[39m*\u001b[39;49margs, \u001b[39m*\u001b[39;49m\u001b[39m*\u001b[39;49mkwds)\n",
      "File \u001b[0;32m~/anaconda3/envs/qml/lib/python3.8/site-packages/pennylane/_qubit_device.py:355\u001b[0m, in \u001b[0;36mQubitDevice.batch_execute\u001b[0;34m(self, circuits)\u001b[0m\n\u001b[1;32m    350\u001b[0m \u001b[39mfor\u001b[39;00m circuit \u001b[39min\u001b[39;00m circuits:\n\u001b[1;32m    351\u001b[0m     \u001b[39m# we need to reset the device here, else it will\u001b[39;00m\n\u001b[1;32m    352\u001b[0m     \u001b[39m# not start the next computation in the zero state\u001b[39;00m\n\u001b[1;32m    353\u001b[0m     \u001b[39mself\u001b[39m\u001b[39m.\u001b[39mreset()\n\u001b[0;32m--> 355\u001b[0m     res \u001b[39m=\u001b[39m \u001b[39mself\u001b[39;49m\u001b[39m.\u001b[39;49mexecute(circuit)\n\u001b[1;32m    356\u001b[0m     results\u001b[39m.\u001b[39mappend(res)\n\u001b[1;32m    358\u001b[0m \u001b[39mif\u001b[39;00m \u001b[39mself\u001b[39m\u001b[39m.\u001b[39mtracker\u001b[39m.\u001b[39mactive:\n",
      "File \u001b[0;32m~/anaconda3/envs/qml/lib/python3.8/site-packages/pennylane_forest/qvm.py:158\u001b[0m, in \u001b[0;36mQVMDevice.execute\u001b[0;34m(self, circuit, **kwargs)\u001b[0m\n\u001b[1;32m    155\u001b[0m \u001b[39mif\u001b[39;00m \u001b[39mself\u001b[39m\u001b[39m.\u001b[39mparametric_compilation:\n\u001b[1;32m    156\u001b[0m     \u001b[39mself\u001b[39m\u001b[39m.\u001b[39m_circuit_hash \u001b[39m=\u001b[39m circuit\u001b[39m.\u001b[39mgraph\u001b[39m.\u001b[39mhash\n\u001b[0;32m--> 158\u001b[0m \u001b[39mreturn\u001b[39;00m \u001b[39msuper\u001b[39;49m()\u001b[39m.\u001b[39;49mexecute(circuit, \u001b[39m*\u001b[39;49m\u001b[39m*\u001b[39;49mkwargs)\n",
      "File \u001b[0;32m~/anaconda3/envs/qml/lib/python3.8/site-packages/pennylane/_qubit_device.py:261\u001b[0m, in \u001b[0;36mQubitDevice.execute\u001b[0;34m(self, circuit, **kwargs)\u001b[0m\n\u001b[1;32m    259\u001b[0m \u001b[39m# generate computational basis samples\u001b[39;00m\n\u001b[1;32m    260\u001b[0m \u001b[39mif\u001b[39;00m \u001b[39mself\u001b[39m\u001b[39m.\u001b[39mshots \u001b[39mis\u001b[39;00m \u001b[39mnot\u001b[39;00m \u001b[39mNone\u001b[39;00m \u001b[39mor\u001b[39;00m circuit\u001b[39m.\u001b[39mis_sampled:\n\u001b[0;32m--> 261\u001b[0m     \u001b[39mself\u001b[39m\u001b[39m.\u001b[39m_samples \u001b[39m=\u001b[39m \u001b[39mself\u001b[39;49m\u001b[39m.\u001b[39;49mgenerate_samples()\n\u001b[1;32m    263\u001b[0m multiple_sampled_jobs \u001b[39m=\u001b[39m circuit\u001b[39m.\u001b[39mis_sampled \u001b[39mand\u001b[39;00m \u001b[39mself\u001b[39m\u001b[39m.\u001b[39m_has_partitioned_shots()\n\u001b[1;32m    265\u001b[0m \u001b[39m# compute the required statistics\u001b[39;00m\n",
      "File \u001b[0;32m~/anaconda3/envs/qml/lib/python3.8/site-packages/pennylane_forest/qvm.py:243\u001b[0m, in \u001b[0;36mQVMDevice.generate_samples\u001b[0;34m(self)\u001b[0m\n\u001b[1;32m    238\u001b[0m     \u001b[39mreturn\u001b[39;00m \u001b[39mself\u001b[39m\u001b[39m.\u001b[39mqc\u001b[39m.\u001b[39mrun(executable\u001b[39m=\u001b[39m\u001b[39mself\u001b[39m\u001b[39m.\u001b[39m_compiled_program)\n\u001b[1;32m    240\u001b[0m \u001b[39mif\u001b[39;00m \u001b[39mself\u001b[39m\u001b[39m.\u001b[39mcircuit_hash \u001b[39mnot\u001b[39;00m \u001b[39min\u001b[39;00m \u001b[39mself\u001b[39m\u001b[39m.\u001b[39m_compiled_program_dict:\n\u001b[1;32m    241\u001b[0m     \u001b[39m# Compiling this specific program for the first time\u001b[39;00m\n\u001b[1;32m    242\u001b[0m     \u001b[39m# Store the compiled program with the corresponding hash\u001b[39;00m\n\u001b[0;32m--> 243\u001b[0m     \u001b[39mself\u001b[39m\u001b[39m.\u001b[39m_compiled_program_dict[\u001b[39mself\u001b[39m\u001b[39m.\u001b[39mcircuit_hash] \u001b[39m=\u001b[39m \u001b[39mself\u001b[39;49m\u001b[39m.\u001b[39;49mqc\u001b[39m.\u001b[39;49mcompile(\u001b[39mself\u001b[39;49m\u001b[39m.\u001b[39;49mprog)\n\u001b[1;32m    245\u001b[0m \u001b[39m# The program has been compiled, store as the latest compiled program\u001b[39;00m\n\u001b[1;32m    246\u001b[0m \u001b[39mself\u001b[39m\u001b[39m.\u001b[39m_compiled_program \u001b[39m=\u001b[39m \u001b[39mself\u001b[39m\u001b[39m.\u001b[39m_compiled_program_dict[\u001b[39mself\u001b[39m\u001b[39m.\u001b[39mcircuit_hash]\n",
      "File \u001b[0;32m~/anaconda3/envs/qml/lib/python3.8/site-packages/pyquil/api/_error_reporting.py:251\u001b[0m, in \u001b[0;36m_record_call.<locals>.wrapper\u001b[0;34m(*args, **kwargs)\u001b[0m\n\u001b[1;32m    246\u001b[0m     pre_entry \u001b[39m=\u001b[39m CallLogValue(\n\u001b[1;32m    247\u001b[0m         timestamp_in\u001b[39m=\u001b[39mdatetime\u001b[39m.\u001b[39mutcnow(), timestamp_out\u001b[39m=\u001b[39m\u001b[39mNone\u001b[39;00m, return_value\u001b[39m=\u001b[39m\u001b[39mNone\u001b[39;00m\n\u001b[1;32m    248\u001b[0m     )\n\u001b[1;32m    249\u001b[0m     global_error_context\u001b[39m.\u001b[39mlog[key] \u001b[39m=\u001b[39m pre_entry\n\u001b[0;32m--> 251\u001b[0m val \u001b[39m=\u001b[39m func(\u001b[39m*\u001b[39;49margs, \u001b[39m*\u001b[39;49m\u001b[39m*\u001b[39;49mkwargs)\n\u001b[1;32m    253\u001b[0m \u001b[39m# poke the return value of that call in\u001b[39;00m\n\u001b[1;32m    254\u001b[0m \u001b[39mif\u001b[39;00m global_error_context \u001b[39mis\u001b[39;00m \u001b[39mnot\u001b[39;00m \u001b[39mNone\u001b[39;00m:\n",
      "File \u001b[0;32m~/anaconda3/envs/qml/lib/python3.8/site-packages/pyquil/api/_quantum_computer.py:493\u001b[0m, in \u001b[0;36mQuantumComputer.compile\u001b[0;34m(self, program, to_native_gates, optimize, protoquil_positional, protoquil)\u001b[0m\n\u001b[1;32m    490\u001b[0m quilc \u001b[39m=\u001b[39m \u001b[39mall\u001b[39m(flags)\n\u001b[1;32m    492\u001b[0m \u001b[39mif\u001b[39;00m quilc:\n\u001b[0;32m--> 493\u001b[0m     nq_program \u001b[39m=\u001b[39m \u001b[39mself\u001b[39;49m\u001b[39m.\u001b[39;49mcompiler\u001b[39m.\u001b[39;49mquil_to_native_quil(program, protoquil\u001b[39m=\u001b[39;49mprotoquil)\n\u001b[1;32m    494\u001b[0m \u001b[39melse\u001b[39;00m:\n\u001b[1;32m    495\u001b[0m     nq_program \u001b[39m=\u001b[39m program\n",
      "File \u001b[0;32m~/anaconda3/envs/qml/lib/python3.8/site-packages/pyquil/api/_error_reporting.py:251\u001b[0m, in \u001b[0;36m_record_call.<locals>.wrapper\u001b[0;34m(*args, **kwargs)\u001b[0m\n\u001b[1;32m    246\u001b[0m     pre_entry \u001b[39m=\u001b[39m CallLogValue(\n\u001b[1;32m    247\u001b[0m         timestamp_in\u001b[39m=\u001b[39mdatetime\u001b[39m.\u001b[39mutcnow(), timestamp_out\u001b[39m=\u001b[39m\u001b[39mNone\u001b[39;00m, return_value\u001b[39m=\u001b[39m\u001b[39mNone\u001b[39;00m\n\u001b[1;32m    248\u001b[0m     )\n\u001b[1;32m    249\u001b[0m     global_error_context\u001b[39m.\u001b[39mlog[key] \u001b[39m=\u001b[39m pre_entry\n\u001b[0;32m--> 251\u001b[0m val \u001b[39m=\u001b[39m func(\u001b[39m*\u001b[39;49margs, \u001b[39m*\u001b[39;49m\u001b[39m*\u001b[39;49mkwargs)\n\u001b[1;32m    253\u001b[0m \u001b[39m# poke the return value of that call in\u001b[39;00m\n\u001b[1;32m    254\u001b[0m \u001b[39mif\u001b[39;00m global_error_context \u001b[39mis\u001b[39;00m \u001b[39mnot\u001b[39;00m \u001b[39mNone\u001b[39;00m:\n",
      "File \u001b[0;32m~/anaconda3/envs/qml/lib/python3.8/site-packages/pyquil/api/_compiler.py:498\u001b[0m, in \u001b[0;36mQVMCompiler.quil_to_native_quil\u001b[0;34m(self, program, protoquil)\u001b[0m\n\u001b[1;32m    496\u001b[0m \u001b[39m@_record_call\u001b[39m\n\u001b[1;32m    497\u001b[0m \u001b[39mdef\u001b[39;00m \u001b[39mquil_to_native_quil\u001b[39m(\u001b[39mself\u001b[39m, program: Program, \u001b[39m*\u001b[39m, protoquil: Optional[\u001b[39mbool\u001b[39m] \u001b[39m=\u001b[39m \u001b[39mNone\u001b[39;00m) \u001b[39m-\u001b[39m\u001b[39m>\u001b[39m Program:\n\u001b[0;32m--> 498\u001b[0m     \u001b[39mself\u001b[39;49m\u001b[39m.\u001b[39;49mconnect()\n\u001b[1;32m    499\u001b[0m     request \u001b[39m=\u001b[39m NativeQuilRequest(quil\u001b[39m=\u001b[39mprogram\u001b[39m.\u001b[39mout(), target_device\u001b[39m=\u001b[39m\u001b[39mself\u001b[39m\u001b[39m.\u001b[39mtarget_device)\n\u001b[1;32m    500\u001b[0m     response \u001b[39m=\u001b[39m \u001b[39mself\u001b[39m\u001b[39m.\u001b[39mclient\u001b[39m.\u001b[39mcall(\u001b[39m\"\u001b[39m\u001b[39mquil_to_native_quil\u001b[39m\u001b[39m\"\u001b[39m, request, protoquil\u001b[39m=\u001b[39mprotoquil)\u001b[39m.\u001b[39masdict()\n",
      "File \u001b[0;32m~/anaconda3/envs/qml/lib/python3.8/site-packages/pyquil/api/_compiler.py:484\u001b[0m, in \u001b[0;36mQVMCompiler.connect\u001b[0;34m(self)\u001b[0m\n\u001b[1;32m    482\u001b[0m \u001b[39mdef\u001b[39;00m \u001b[39mconnect\u001b[39m(\u001b[39mself\u001b[39m) \u001b[39m-\u001b[39m\u001b[39m>\u001b[39m \u001b[39mNone\u001b[39;00m:\n\u001b[1;32m    483\u001b[0m     \u001b[39mtry\u001b[39;00m:\n\u001b[0;32m--> 484\u001b[0m         version_dict \u001b[39m=\u001b[39m \u001b[39mself\u001b[39;49m\u001b[39m.\u001b[39;49mget_version_info()\n\u001b[1;32m    485\u001b[0m         check_quilc_version(version_dict)\n\u001b[1;32m    486\u001b[0m     \u001b[39mexcept\u001b[39;00m \u001b[39mTimeoutError\u001b[39;00m:\n",
      "File \u001b[0;32m~/anaconda3/envs/qml/lib/python3.8/site-packages/pyquil/api/_compiler.py:494\u001b[0m, in \u001b[0;36mQVMCompiler.get_version_info\u001b[0;34m(self)\u001b[0m\n\u001b[1;32m    493\u001b[0m \u001b[39mdef\u001b[39;00m \u001b[39mget_version_info\u001b[39m(\u001b[39mself\u001b[39m) \u001b[39m-\u001b[39m\u001b[39m>\u001b[39m Dict[\u001b[39mstr\u001b[39m, Any]:\n\u001b[0;32m--> 494\u001b[0m     \u001b[39mreturn\u001b[39;00m cast(Dict[\u001b[39mstr\u001b[39m, Any], \u001b[39mself\u001b[39;49m\u001b[39m.\u001b[39;49mclient\u001b[39m.\u001b[39;49mcall(\u001b[39m\"\u001b[39;49m\u001b[39mget_version_info\u001b[39;49m\u001b[39m\"\u001b[39;49m))\n",
      "File \u001b[0;32m~/anaconda3/envs/qml/lib/python3.8/site-packages/rpcq/_client.py:189\u001b[0m, in \u001b[0;36mClient.call\u001b[0;34m(self, method_name, rpc_timeout, *args, **kwargs)\u001b[0m\n\u001b[1;32m    186\u001b[0m \u001b[39mif\u001b[39;00m \u001b[39mself\u001b[39m\u001b[39m.\u001b[39m_socket\u001b[39m.\u001b[39mpoll(timeout) \u001b[39m==\u001b[39m \u001b[39m0\u001b[39m:\n\u001b[1;32m    187\u001b[0m     \u001b[39mraise\u001b[39;00m \u001b[39mTimeoutError\u001b[39;00m(\u001b[39mf\u001b[39m\u001b[39m\"\u001b[39m\u001b[39mTimeout on client \u001b[39m\u001b[39m{\u001b[39;00m\u001b[39mself\u001b[39m\u001b[39m.\u001b[39mendpoint\u001b[39m}\u001b[39;00m\u001b[39m, method name \u001b[39m\u001b[39m{\u001b[39;00mmethod_name\u001b[39m}\u001b[39;00m\u001b[39m, class info: \u001b[39m\u001b[39m{\u001b[39;00m\u001b[39mself\u001b[39m\u001b[39m}\u001b[39;00m\u001b[39m\"\u001b[39m)\n\u001b[0;32m--> 189\u001b[0m raw_reply, \u001b[39m=\u001b[39m \u001b[39mself\u001b[39;49m\u001b[39m.\u001b[39;49m_socket\u001b[39m.\u001b[39;49mrecv_multipart()\n\u001b[1;32m    190\u001b[0m reply \u001b[39m=\u001b[39m from_msgpack(raw_reply)\n\u001b[1;32m    191\u001b[0m _log\u001b[39m.\u001b[39mdebug(\u001b[39m\"\u001b[39m\u001b[39mReceived reply: \u001b[39m\u001b[39m%s\u001b[39;00m\u001b[39m\"\u001b[39m, reply)\n",
      "File \u001b[0;32m~/anaconda3/envs/qml/lib/python3.8/site-packages/zmq/sugar/socket.py:724\u001b[0m, in \u001b[0;36mSocket.recv_multipart\u001b[0;34m(self, flags, copy, track)\u001b[0m\n\u001b[1;32m    696\u001b[0m \u001b[39mdef\u001b[39;00m \u001b[39mrecv_multipart\u001b[39m(\n\u001b[1;32m    697\u001b[0m     \u001b[39mself\u001b[39m, flags: \u001b[39mint\u001b[39m \u001b[39m=\u001b[39m \u001b[39m0\u001b[39m, copy: \u001b[39mbool\u001b[39m \u001b[39m=\u001b[39m \u001b[39mTrue\u001b[39;00m, track: \u001b[39mbool\u001b[39m \u001b[39m=\u001b[39m \u001b[39mFalse\u001b[39;00m\n\u001b[1;32m    698\u001b[0m ) \u001b[39m-\u001b[39m\u001b[39m>\u001b[39m Union[List[zmq\u001b[39m.\u001b[39mFrame], List[\u001b[39mbytes\u001b[39m]]:\n\u001b[1;32m    699\u001b[0m     \u001b[39m\"\"\"Receive a multipart message as a list of bytes or Frame objects\u001b[39;00m\n\u001b[1;32m    700\u001b[0m \n\u001b[1;32m    701\u001b[0m \u001b[39m    Parameters\u001b[39;00m\n\u001b[0;32m   (...)\u001b[0m\n\u001b[1;32m    722\u001b[0m \u001b[39m        for any of the reasons :func:`~Socket.recv` might fail\u001b[39;00m\n\u001b[1;32m    723\u001b[0m \u001b[39m    \"\"\"\u001b[39;00m\n\u001b[0;32m--> 724\u001b[0m     parts \u001b[39m=\u001b[39m [\u001b[39mself\u001b[39;49m\u001b[39m.\u001b[39;49mrecv(flags, copy\u001b[39m=\u001b[39;49mcopy, track\u001b[39m=\u001b[39;49mtrack)]\n\u001b[1;32m    725\u001b[0m     \u001b[39m# have first part already, only loop while more to receive\u001b[39;00m\n\u001b[1;32m    726\u001b[0m     \u001b[39mwhile\u001b[39;00m \u001b[39mself\u001b[39m\u001b[39m.\u001b[39mgetsockopt(zmq\u001b[39m.\u001b[39mRCVMORE):\n",
      "File \u001b[0;32mzmq/backend/cython/socket.pyx:803\u001b[0m, in \u001b[0;36mzmq.backend.cython.socket.Socket.recv\u001b[0;34m()\u001b[0m\n",
      "File \u001b[0;32mzmq/backend/cython/socket.pyx:839\u001b[0m, in \u001b[0;36mzmq.backend.cython.socket.Socket.recv\u001b[0;34m()\u001b[0m\n",
      "File \u001b[0;32mzmq/backend/cython/socket.pyx:188\u001b[0m, in \u001b[0;36mzmq.backend.cython.socket._recv_copy\u001b[0;34m()\u001b[0m\n",
      "File \u001b[0;32m~/anaconda3/envs/qml/lib/python3.8/site-packages/zmq/backend/cython/checkrc.pxd:13\u001b[0m, in \u001b[0;36mzmq.backend.cython.checkrc._check_rc\u001b[0;34m()\u001b[0m\n",
      "\u001b[0;31mKeyboardInterrupt\u001b[0m: "
     ]
    }
   ],
   "source": [
    "# Vanilla execution\n",
    "dev = devs[0]\n",
    "\n",
    "t0 = time.time()\n",
    "E_seq = qml.QNode(circuit, dev)(params, H)\n",
    "dt_seq = time.time() - t0\n",
    "\n",
    "print(f\"Evaluation time with standard expval: {dt_seq:.2f} s\")"
   ]
  },
  {
   "cell_type": "code",
   "execution_count": 4,
   "metadata": {},
   "outputs": [
    {
     "ename": "RPCError",
     "evalue": "Unhandled error in host program:\nAt line 240: The name \"ro\" has been DECLAREd more than once.",
     "output_type": "error",
     "traceback": [
      "\u001b[0;31m---------------------------------------------------------------------------\u001b[0m",
      "\u001b[0;31mRPCError\u001b[0m                                  Traceback (most recent call last)",
      "\u001b[1;32m/home/qottmann/Qottmann/Xanadu/qml/demonstrations/vqe_parallel.ipynb Cell 18'\u001b[0m in \u001b[0;36m<cell line: 14>\u001b[0;34m()\u001b[0m\n\u001b[1;32m     <a href='vscode-notebook-cell://wsl%2Bubuntu-20.04/home/qottmann/Qottmann/Xanadu/qml/demonstrations/vqe_parallel.ipynb#ch0000042vscode-remote?line=9'>10</a>\u001b[0m     \u001b[39mreturn\u001b[39;00m result\n\u001b[1;32m     <a href='vscode-notebook-cell://wsl%2Bubuntu-20.04/home/qottmann/Qottmann/Xanadu/qml/demonstrations/vqe_parallel.ipynb#ch0000042vscode-remote?line=12'>13</a>\u001b[0m t0 \u001b[39m=\u001b[39m time\u001b[39m.\u001b[39mtime()\n\u001b[0;32m---> <a href='vscode-notebook-cell://wsl%2Bubuntu-20.04/home/qottmann/Qottmann/Xanadu/qml/demonstrations/vqe_parallel.ipynb#ch0000042vscode-remote?line=13'>14</a>\u001b[0m E_par \u001b[39m=\u001b[39m compute_energy_parallel(H, devs, params)\n\u001b[1;32m     <a href='vscode-notebook-cell://wsl%2Bubuntu-20.04/home/qottmann/Qottmann/Xanadu/qml/demonstrations/vqe_parallel.ipynb#ch0000042vscode-remote?line=14'>15</a>\u001b[0m dt_par \u001b[39m=\u001b[39m time\u001b[39m.\u001b[39mtime() \u001b[39m-\u001b[39m t0\n\u001b[1;32m     <a href='vscode-notebook-cell://wsl%2Bubuntu-20.04/home/qottmann/Qottmann/Xanadu/qml/demonstrations/vqe_parallel.ipynb#ch0000042vscode-remote?line=16'>17</a>\u001b[0m \u001b[39mprint\u001b[39m(\u001b[39mf\u001b[39m\u001b[39m\"\u001b[39m\u001b[39mEvaluation time with dask: \u001b[39m\u001b[39m{\u001b[39;00mdt_par\u001b[39m:\u001b[39;00m\u001b[39m.2f\u001b[39m\u001b[39m}\u001b[39;00m\u001b[39m s\u001b[39m\u001b[39m\"\u001b[39m)\n",
      "\u001b[1;32m/home/qottmann/Qottmann/Xanadu/qml/demonstrations/vqe_parallel.ipynb Cell 18'\u001b[0m in \u001b[0;36mcompute_energy_parallel\u001b[0;34m(H, devs, param)\u001b[0m\n\u001b[1;32m      <a href='vscode-notebook-cell://wsl%2Bubuntu-20.04/home/qottmann/Qottmann/Xanadu/qml/demonstrations/vqe_parallel.ipynb#ch0000042vscode-remote?line=5'>6</a>\u001b[0m     qnode \u001b[39m=\u001b[39m qml\u001b[39m.\u001b[39mQNode(circuit, devs[i\u001b[39m%\u001b[39m\u001b[39mlen\u001b[39m(devs)])\n\u001b[1;32m      <a href='vscode-notebook-cell://wsl%2Bubuntu-20.04/home/qottmann/Qottmann/Xanadu/qml/demonstrations/vqe_parallel.ipynb#ch0000042vscode-remote?line=6'>7</a>\u001b[0m     results\u001b[39m.\u001b[39mappend(dask\u001b[39m.\u001b[39mdelayed(qnode)(param, H\u001b[39m.\u001b[39mops[i]))\n\u001b[0;32m----> <a href='vscode-notebook-cell://wsl%2Bubuntu-20.04/home/qottmann/Qottmann/Xanadu/qml/demonstrations/vqe_parallel.ipynb#ch0000042vscode-remote?line=8'>9</a>\u001b[0m result \u001b[39m=\u001b[39m H\u001b[39m.\u001b[39mcoeffs \u001b[39m@\u001b[39m dask\u001b[39m.\u001b[39;49mcompute(\u001b[39m*\u001b[39;49mresults, scheduler\u001b[39m=\u001b[39;49m\u001b[39m\"\u001b[39;49m\u001b[39mthreads\u001b[39;49m\u001b[39m\"\u001b[39;49m)\n\u001b[1;32m     <a href='vscode-notebook-cell://wsl%2Bubuntu-20.04/home/qottmann/Qottmann/Xanadu/qml/demonstrations/vqe_parallel.ipynb#ch0000042vscode-remote?line=9'>10</a>\u001b[0m \u001b[39mreturn\u001b[39;00m result\n",
      "File \u001b[0;32m~/anaconda3/envs/qml/lib/python3.8/site-packages/dask/base.py:436\u001b[0m, in \u001b[0;36mcompute\u001b[0;34m(*args, **kwargs)\u001b[0m\n\u001b[1;32m    434\u001b[0m keys \u001b[39m=\u001b[39m [x\u001b[39m.\u001b[39m__dask_keys__() \u001b[39mfor\u001b[39;00m x \u001b[39min\u001b[39;00m collections]\n\u001b[1;32m    435\u001b[0m postcomputes \u001b[39m=\u001b[39m [x\u001b[39m.\u001b[39m__dask_postcompute__() \u001b[39mfor\u001b[39;00m x \u001b[39min\u001b[39;00m collections]\n\u001b[0;32m--> 436\u001b[0m results \u001b[39m=\u001b[39m schedule(dsk, keys, \u001b[39m*\u001b[39;49m\u001b[39m*\u001b[39;49mkwargs)\n\u001b[1;32m    437\u001b[0m \u001b[39mreturn\u001b[39;00m repack([f(r, \u001b[39m*\u001b[39ma) \u001b[39mfor\u001b[39;00m r, (f, a) \u001b[39min\u001b[39;00m \u001b[39mzip\u001b[39m(results, postcomputes)])\n",
      "File \u001b[0;32m~/anaconda3/envs/qml/lib/python3.8/site-packages/dask/threaded.py:73\u001b[0m, in \u001b[0;36mget\u001b[0;34m(dsk, result, cache, num_workers, pool, **kwargs)\u001b[0m\n\u001b[1;32m     70\u001b[0m             pool \u001b[39m=\u001b[39m ThreadPool(num_workers)\n\u001b[1;32m     71\u001b[0m             pools[thread][num_workers] \u001b[39m=\u001b[39m pool\n\u001b[0;32m---> 73\u001b[0m results \u001b[39m=\u001b[39m get_async(\n\u001b[1;32m     74\u001b[0m     pool\u001b[39m.\u001b[39;49mapply_async,\n\u001b[1;32m     75\u001b[0m     \u001b[39mlen\u001b[39;49m(pool\u001b[39m.\u001b[39;49m_pool),\n\u001b[1;32m     76\u001b[0m     dsk,\n\u001b[1;32m     77\u001b[0m     result,\n\u001b[1;32m     78\u001b[0m     cache\u001b[39m=\u001b[39;49mcache,\n\u001b[1;32m     79\u001b[0m     get_id\u001b[39m=\u001b[39;49m_thread_get_id,\n\u001b[1;32m     80\u001b[0m     pack_exception\u001b[39m=\u001b[39;49mpack_exception,\n\u001b[1;32m     81\u001b[0m     \u001b[39m*\u001b[39;49m\u001b[39m*\u001b[39;49mkwargs\n\u001b[1;32m     82\u001b[0m )\n\u001b[1;32m     84\u001b[0m \u001b[39m# Cleanup pools associated to dead threads\u001b[39;00m\n\u001b[1;32m     85\u001b[0m \u001b[39mwith\u001b[39;00m pools_lock:\n",
      "File \u001b[0;32m~/anaconda3/envs/qml/lib/python3.8/site-packages/dask/local.py:486\u001b[0m, in \u001b[0;36mget_async\u001b[0;34m(apply_async, num_workers, dsk, result, cache, get_id, rerun_exceptions_locally, pack_exception, raise_exception, callbacks, dumps, loads, **kwargs)\u001b[0m\n\u001b[1;32m    484\u001b[0m         _execute_task(task, data)  \u001b[39m# Re-execute locally\u001b[39;00m\n\u001b[1;32m    485\u001b[0m     \u001b[39melse\u001b[39;00m:\n\u001b[0;32m--> 486\u001b[0m         raise_exception(exc, tb)\n\u001b[1;32m    487\u001b[0m res, worker_id \u001b[39m=\u001b[39m loads(res_info)\n\u001b[1;32m    488\u001b[0m state[\u001b[39m\"\u001b[39m\u001b[39mcache\u001b[39m\u001b[39m\"\u001b[39m][key] \u001b[39m=\u001b[39m res\n",
      "File \u001b[0;32m~/anaconda3/envs/qml/lib/python3.8/site-packages/dask/local.py:316\u001b[0m, in \u001b[0;36mreraise\u001b[0;34m(exc, tb)\u001b[0m\n\u001b[1;32m    314\u001b[0m \u001b[39mif\u001b[39;00m exc\u001b[39m.\u001b[39m__traceback__ \u001b[39mis\u001b[39;00m \u001b[39mnot\u001b[39;00m tb:\n\u001b[1;32m    315\u001b[0m     \u001b[39mraise\u001b[39;00m exc\u001b[39m.\u001b[39mwith_traceback(tb)\n\u001b[0;32m--> 316\u001b[0m \u001b[39mraise\u001b[39;00m exc\n",
      "File \u001b[0;32m~/anaconda3/envs/qml/lib/python3.8/site-packages/dask/local.py:222\u001b[0m, in \u001b[0;36mexecute_task\u001b[0;34m(key, task_info, dumps, loads, get_id, pack_exception)\u001b[0m\n\u001b[1;32m    220\u001b[0m \u001b[39mtry\u001b[39;00m:\n\u001b[1;32m    221\u001b[0m     task, data \u001b[39m=\u001b[39m loads(task_info)\n\u001b[0;32m--> 222\u001b[0m     result \u001b[39m=\u001b[39m _execute_task(task, data)\n\u001b[1;32m    223\u001b[0m     \u001b[39mid\u001b[39m \u001b[39m=\u001b[39m get_id()\n\u001b[1;32m    224\u001b[0m     result \u001b[39m=\u001b[39m dumps((result, \u001b[39mid\u001b[39m))\n",
      "File \u001b[0;32m~/anaconda3/envs/qml/lib/python3.8/site-packages/dask/core.py:119\u001b[0m, in \u001b[0;36m_execute_task\u001b[0;34m(arg, cache, dsk)\u001b[0m\n\u001b[1;32m    117\u001b[0m     func, args \u001b[39m=\u001b[39m arg[\u001b[39m0\u001b[39m], arg[\u001b[39m1\u001b[39m:]\n\u001b[1;32m    118\u001b[0m     args2 \u001b[39m=\u001b[39m [_execute_task(a, cache) \u001b[39mfor\u001b[39;00m a \u001b[39min\u001b[39;00m args]\n\u001b[0;32m--> 119\u001b[0m     \u001b[39mreturn\u001b[39;00m func(\u001b[39m*\u001b[39;49margs2)\n\u001b[1;32m    120\u001b[0m \u001b[39melif\u001b[39;00m \u001b[39mnot\u001b[39;00m ishashable(arg):\n\u001b[1;32m    121\u001b[0m     \u001b[39mreturn\u001b[39;00m arg\n",
      "File \u001b[0;32m~/anaconda3/envs/qml/lib/python3.8/site-packages/pennylane/qnode.py:619\u001b[0m, in \u001b[0;36mQNode.__call__\u001b[0;34m(self, *args, **kwargs)\u001b[0m\n\u001b[1;32m    612\u001b[0m using_custom_cache \u001b[39m=\u001b[39m (\n\u001b[1;32m    613\u001b[0m     \u001b[39mhasattr\u001b[39m(cache, \u001b[39m\"\u001b[39m\u001b[39m__getitem__\u001b[39m\u001b[39m\"\u001b[39m)\n\u001b[1;32m    614\u001b[0m     \u001b[39mand\u001b[39;00m \u001b[39mhasattr\u001b[39m(cache, \u001b[39m\"\u001b[39m\u001b[39m__setitem__\u001b[39m\u001b[39m\"\u001b[39m)\n\u001b[1;32m    615\u001b[0m     \u001b[39mand\u001b[39;00m \u001b[39mhasattr\u001b[39m(cache, \u001b[39m\"\u001b[39m\u001b[39m__delitem__\u001b[39m\u001b[39m\"\u001b[39m)\n\u001b[1;32m    616\u001b[0m )\n\u001b[1;32m    617\u001b[0m \u001b[39mself\u001b[39m\u001b[39m.\u001b[39m_tape_cached \u001b[39m=\u001b[39m using_custom_cache \u001b[39mand\u001b[39;00m \u001b[39mself\u001b[39m\u001b[39m.\u001b[39mtape\u001b[39m.\u001b[39mhash \u001b[39min\u001b[39;00m cache\n\u001b[0;32m--> 619\u001b[0m res \u001b[39m=\u001b[39m qml\u001b[39m.\u001b[39;49mexecute(\n\u001b[1;32m    620\u001b[0m     [\u001b[39mself\u001b[39;49m\u001b[39m.\u001b[39;49mtape],\n\u001b[1;32m    621\u001b[0m     device\u001b[39m=\u001b[39;49m\u001b[39mself\u001b[39;49m\u001b[39m.\u001b[39;49mdevice,\n\u001b[1;32m    622\u001b[0m     gradient_fn\u001b[39m=\u001b[39;49m\u001b[39mself\u001b[39;49m\u001b[39m.\u001b[39;49mgradient_fn,\n\u001b[1;32m    623\u001b[0m     interface\u001b[39m=\u001b[39;49m\u001b[39mself\u001b[39;49m\u001b[39m.\u001b[39;49minterface,\n\u001b[1;32m    624\u001b[0m     gradient_kwargs\u001b[39m=\u001b[39;49m\u001b[39mself\u001b[39;49m\u001b[39m.\u001b[39;49mgradient_kwargs,\n\u001b[1;32m    625\u001b[0m     override_shots\u001b[39m=\u001b[39;49moverride_shots,\n\u001b[1;32m    626\u001b[0m     \u001b[39m*\u001b[39;49m\u001b[39m*\u001b[39;49m\u001b[39mself\u001b[39;49m\u001b[39m.\u001b[39;49mexecute_kwargs,\n\u001b[1;32m    627\u001b[0m )\n\u001b[1;32m    629\u001b[0m \u001b[39mif\u001b[39;00m autograd\u001b[39m.\u001b[39misinstance(res, (\u001b[39mtuple\u001b[39m, \u001b[39mlist\u001b[39m)) \u001b[39mand\u001b[39;00m \u001b[39mlen\u001b[39m(res) \u001b[39m==\u001b[39m \u001b[39m1\u001b[39m:\n\u001b[1;32m    630\u001b[0m     \u001b[39m# If a device batch transform was applied, we need to 'unpack'\u001b[39;00m\n\u001b[1;32m    631\u001b[0m     \u001b[39m# the returned tuple/list to a float.\u001b[39;00m\n\u001b[0;32m   (...)\u001b[0m\n\u001b[1;32m    638\u001b[0m     \u001b[39m# TODO: find a more explicit way of determining that a batch transform\u001b[39;00m\n\u001b[1;32m    639\u001b[0m     \u001b[39m# was applied.\u001b[39;00m\n\u001b[1;32m    641\u001b[0m     res \u001b[39m=\u001b[39m res[\u001b[39m0\u001b[39m]\n",
      "File \u001b[0;32m~/anaconda3/envs/qml/lib/python3.8/site-packages/pennylane/interfaces/execution.py:414\u001b[0m, in \u001b[0;36mexecute\u001b[0;34m(tapes, device, gradient_fn, interface, mode, gradient_kwargs, cache, cachesize, max_diff, override_shots, expand_fn, max_expansion, device_batch_transform)\u001b[0m\n\u001b[1;32m    408\u001b[0m \u001b[39mexcept\u001b[39;00m \u001b[39mImportError\u001b[39;00m \u001b[39mas\u001b[39;00m e:\n\u001b[1;32m    409\u001b[0m     \u001b[39mraise\u001b[39;00m qml\u001b[39m.\u001b[39mQuantumFunctionError(\n\u001b[1;32m    410\u001b[0m         \u001b[39mf\u001b[39m\u001b[39m\"\u001b[39m\u001b[39m{\u001b[39;00mmapped_interface\u001b[39m}\u001b[39;00m\u001b[39m not found. Please install the latest \u001b[39m\u001b[39m\"\u001b[39m\n\u001b[1;32m    411\u001b[0m         \u001b[39mf\u001b[39m\u001b[39m\"\u001b[39m\u001b[39mversion of \u001b[39m\u001b[39m{\u001b[39;00mmapped_interface\u001b[39m}\u001b[39;00m\u001b[39m to enable the \u001b[39m\u001b[39m'\u001b[39m\u001b[39m{\u001b[39;00mmapped_interface\u001b[39m}\u001b[39;00m\u001b[39m'\u001b[39m\u001b[39m interface.\u001b[39m\u001b[39m\"\u001b[39m\n\u001b[1;32m    412\u001b[0m     ) \u001b[39mfrom\u001b[39;00m \u001b[39me\u001b[39;00m\n\u001b[0;32m--> 414\u001b[0m res \u001b[39m=\u001b[39m _execute(\n\u001b[1;32m    415\u001b[0m     tapes, device, execute_fn, gradient_fn, gradient_kwargs, _n\u001b[39m=\u001b[39;49m\u001b[39m1\u001b[39;49m, max_diff\u001b[39m=\u001b[39;49mmax_diff, mode\u001b[39m=\u001b[39;49m_mode\n\u001b[1;32m    416\u001b[0m )\n\u001b[1;32m    418\u001b[0m \u001b[39mreturn\u001b[39;00m batch_fn(res)\n",
      "File \u001b[0;32m~/anaconda3/envs/qml/lib/python3.8/site-packages/pennylane/interfaces/autograd.py:66\u001b[0m, in \u001b[0;36mexecute\u001b[0;34m(tapes, device, execute_fn, gradient_fn, gradient_kwargs, _n, max_diff, mode)\u001b[0m\n\u001b[1;32m     60\u001b[0m \u001b[39m# pylint misidentifies autograd.builtins as a dict\u001b[39;00m\n\u001b[1;32m     61\u001b[0m \u001b[39m# pylint: disable=no-member\u001b[39;00m\n\u001b[1;32m     62\u001b[0m parameters \u001b[39m=\u001b[39m autograd\u001b[39m.\u001b[39mbuiltins\u001b[39m.\u001b[39mtuple(\n\u001b[1;32m     63\u001b[0m     [autograd\u001b[39m.\u001b[39mbuiltins\u001b[39m.\u001b[39mlist(t\u001b[39m.\u001b[39mget_parameters()) \u001b[39mfor\u001b[39;00m t \u001b[39min\u001b[39;00m tapes]\n\u001b[1;32m     64\u001b[0m )\n\u001b[0;32m---> 66\u001b[0m \u001b[39mreturn\u001b[39;00m _execute(\n\u001b[1;32m     67\u001b[0m     parameters,\n\u001b[1;32m     68\u001b[0m     tapes\u001b[39m=\u001b[39;49mtapes,\n\u001b[1;32m     69\u001b[0m     device\u001b[39m=\u001b[39;49mdevice,\n\u001b[1;32m     70\u001b[0m     execute_fn\u001b[39m=\u001b[39;49mexecute_fn,\n\u001b[1;32m     71\u001b[0m     gradient_fn\u001b[39m=\u001b[39;49mgradient_fn,\n\u001b[1;32m     72\u001b[0m     gradient_kwargs\u001b[39m=\u001b[39;49mgradient_kwargs,\n\u001b[1;32m     73\u001b[0m     _n\u001b[39m=\u001b[39;49m_n,\n\u001b[1;32m     74\u001b[0m     max_diff\u001b[39m=\u001b[39;49mmax_diff,\n\u001b[1;32m     75\u001b[0m )[\u001b[39m0\u001b[39m]\n",
      "File \u001b[0;32m~/anaconda3/envs/qml/lib/python3.8/site-packages/autograd/tracer.py:48\u001b[0m, in \u001b[0;36mprimitive.<locals>.f_wrapped\u001b[0;34m(*args, **kwargs)\u001b[0m\n\u001b[1;32m     46\u001b[0m     \u001b[39mreturn\u001b[39;00m new_box(ans, trace, node)\n\u001b[1;32m     47\u001b[0m \u001b[39melse\u001b[39;00m:\n\u001b[0;32m---> 48\u001b[0m     \u001b[39mreturn\u001b[39;00m f_raw(\u001b[39m*\u001b[39;49margs, \u001b[39m*\u001b[39;49m\u001b[39m*\u001b[39;49mkwargs)\n",
      "File \u001b[0;32m~/anaconda3/envs/qml/lib/python3.8/site-packages/pennylane/interfaces/autograd.py:110\u001b[0m, in \u001b[0;36m_execute\u001b[0;34m(parameters, tapes, device, execute_fn, gradient_fn, gradient_kwargs, _n, max_diff)\u001b[0m\n\u001b[1;32m     89\u001b[0m \u001b[39m\"\"\"Autodifferentiable wrapper around ``Device.batch_execute``.\u001b[39;00m\n\u001b[1;32m     90\u001b[0m \n\u001b[1;32m     91\u001b[0m \u001b[39mThe signature of this function is designed to work around Autograd restrictions.\u001b[39;00m\n\u001b[0;32m   (...)\u001b[0m\n\u001b[1;32m    107\u001b[0m \u001b[39munderstand the consequences!\u001b[39;00m\n\u001b[1;32m    108\u001b[0m \u001b[39m\"\"\"\u001b[39;00m\n\u001b[1;32m    109\u001b[0m \u001b[39mwith\u001b[39;00m qml\u001b[39m.\u001b[39mtape\u001b[39m.\u001b[39mUnwrap(\u001b[39m*\u001b[39mtapes):\n\u001b[0;32m--> 110\u001b[0m     res, jacs \u001b[39m=\u001b[39m execute_fn(tapes, \u001b[39m*\u001b[39;49m\u001b[39m*\u001b[39;49mgradient_kwargs)\n\u001b[1;32m    112\u001b[0m \u001b[39mfor\u001b[39;00m i, r \u001b[39min\u001b[39;00m \u001b[39menumerate\u001b[39m(res):\n\u001b[1;32m    114\u001b[0m     \u001b[39mif\u001b[39;00m \u001b[39misinstance\u001b[39m(res[i], np\u001b[39m.\u001b[39mndarray):\n\u001b[1;32m    115\u001b[0m         \u001b[39m# For backwards compatibility, we flatten ragged tape outputs\u001b[39;00m\n\u001b[1;32m    116\u001b[0m         \u001b[39m# when there is no sampling\u001b[39;00m\n",
      "File \u001b[0;32m~/anaconda3/envs/qml/lib/python3.8/site-packages/pennylane/interfaces/execution.py:172\u001b[0m, in \u001b[0;36mcache_execute.<locals>.wrapper\u001b[0;34m(tapes, **kwargs)\u001b[0m\n\u001b[1;32m    168\u001b[0m         \u001b[39mreturn\u001b[39;00m (res, []) \u001b[39mif\u001b[39;00m return_tuple \u001b[39melse\u001b[39;00m res\n\u001b[1;32m    170\u001b[0m \u001b[39melse\u001b[39;00m:\n\u001b[1;32m    171\u001b[0m     \u001b[39m# execute all unique tapes that do not exist in the cache\u001b[39;00m\n\u001b[0;32m--> 172\u001b[0m     res \u001b[39m=\u001b[39m fn(execution_tapes\u001b[39m.\u001b[39;49mvalues(), \u001b[39m*\u001b[39;49m\u001b[39m*\u001b[39;49mkwargs)\n\u001b[1;32m    174\u001b[0m final_res \u001b[39m=\u001b[39m []\n\u001b[1;32m    176\u001b[0m \u001b[39mfor\u001b[39;00m i, tape \u001b[39min\u001b[39;00m \u001b[39menumerate\u001b[39m(tapes):\n",
      "File \u001b[0;32m~/anaconda3/envs/qml/lib/python3.8/site-packages/pennylane/interfaces/execution.py:97\u001b[0m, in \u001b[0;36mcache_execute.<locals>.fn\u001b[0;34m(tapes, **kwargs)\u001b[0m\n\u001b[1;32m     95\u001b[0m \u001b[39mdef\u001b[39;00m \u001b[39mfn\u001b[39m(tapes, \u001b[39m*\u001b[39m\u001b[39m*\u001b[39mkwargs):  \u001b[39m# pylint: disable=function-redefined\u001b[39;00m\n\u001b[1;32m     96\u001b[0m     tapes \u001b[39m=\u001b[39m [expand_fn(tape) \u001b[39mfor\u001b[39;00m tape \u001b[39min\u001b[39;00m tapes]\n\u001b[0;32m---> 97\u001b[0m     \u001b[39mreturn\u001b[39;00m original_fn(tapes, \u001b[39m*\u001b[39;49m\u001b[39m*\u001b[39;49mkwargs)\n",
      "File \u001b[0;32m~/anaconda3/envs/qml/lib/python3.8/contextlib.py:75\u001b[0m, in \u001b[0;36mContextDecorator.__call__.<locals>.inner\u001b[0;34m(*args, **kwds)\u001b[0m\n\u001b[1;32m     72\u001b[0m \u001b[39m@wraps\u001b[39m(func)\n\u001b[1;32m     73\u001b[0m \u001b[39mdef\u001b[39;00m \u001b[39minner\u001b[39m(\u001b[39m*\u001b[39margs, \u001b[39m*\u001b[39m\u001b[39m*\u001b[39mkwds):\n\u001b[1;32m     74\u001b[0m     \u001b[39mwith\u001b[39;00m \u001b[39mself\u001b[39m\u001b[39m.\u001b[39m_recreate_cm():\n\u001b[0;32m---> 75\u001b[0m         \u001b[39mreturn\u001b[39;00m func(\u001b[39m*\u001b[39;49margs, \u001b[39m*\u001b[39;49m\u001b[39m*\u001b[39;49mkwds)\n",
      "File \u001b[0;32m~/anaconda3/envs/qml/lib/python3.8/site-packages/pennylane/_qubit_device.py:355\u001b[0m, in \u001b[0;36mQubitDevice.batch_execute\u001b[0;34m(self, circuits)\u001b[0m\n\u001b[1;32m    350\u001b[0m \u001b[39mfor\u001b[39;00m circuit \u001b[39min\u001b[39;00m circuits:\n\u001b[1;32m    351\u001b[0m     \u001b[39m# we need to reset the device here, else it will\u001b[39;00m\n\u001b[1;32m    352\u001b[0m     \u001b[39m# not start the next computation in the zero state\u001b[39;00m\n\u001b[1;32m    353\u001b[0m     \u001b[39mself\u001b[39m\u001b[39m.\u001b[39mreset()\n\u001b[0;32m--> 355\u001b[0m     res \u001b[39m=\u001b[39m \u001b[39mself\u001b[39;49m\u001b[39m.\u001b[39;49mexecute(circuit)\n\u001b[1;32m    356\u001b[0m     results\u001b[39m.\u001b[39mappend(res)\n\u001b[1;32m    358\u001b[0m \u001b[39mif\u001b[39;00m \u001b[39mself\u001b[39m\u001b[39m.\u001b[39mtracker\u001b[39m.\u001b[39mactive:\n",
      "File \u001b[0;32m~/anaconda3/envs/qml/lib/python3.8/site-packages/pennylane_forest/qvm.py:158\u001b[0m, in \u001b[0;36mQVMDevice.execute\u001b[0;34m(self, circuit, **kwargs)\u001b[0m\n\u001b[1;32m    155\u001b[0m \u001b[39mif\u001b[39;00m \u001b[39mself\u001b[39m\u001b[39m.\u001b[39mparametric_compilation:\n\u001b[1;32m    156\u001b[0m     \u001b[39mself\u001b[39m\u001b[39m.\u001b[39m_circuit_hash \u001b[39m=\u001b[39m circuit\u001b[39m.\u001b[39mgraph\u001b[39m.\u001b[39mhash\n\u001b[0;32m--> 158\u001b[0m \u001b[39mreturn\u001b[39;00m \u001b[39msuper\u001b[39;49m()\u001b[39m.\u001b[39;49mexecute(circuit, \u001b[39m*\u001b[39;49m\u001b[39m*\u001b[39;49mkwargs)\n",
      "File \u001b[0;32m~/anaconda3/envs/qml/lib/python3.8/site-packages/pennylane/_qubit_device.py:261\u001b[0m, in \u001b[0;36mQubitDevice.execute\u001b[0;34m(self, circuit, **kwargs)\u001b[0m\n\u001b[1;32m    259\u001b[0m \u001b[39m# generate computational basis samples\u001b[39;00m\n\u001b[1;32m    260\u001b[0m \u001b[39mif\u001b[39;00m \u001b[39mself\u001b[39m\u001b[39m.\u001b[39mshots \u001b[39mis\u001b[39;00m \u001b[39mnot\u001b[39;00m \u001b[39mNone\u001b[39;00m \u001b[39mor\u001b[39;00m circuit\u001b[39m.\u001b[39mis_sampled:\n\u001b[0;32m--> 261\u001b[0m     \u001b[39mself\u001b[39m\u001b[39m.\u001b[39m_samples \u001b[39m=\u001b[39m \u001b[39mself\u001b[39;49m\u001b[39m.\u001b[39;49mgenerate_samples()\n\u001b[1;32m    263\u001b[0m multiple_sampled_jobs \u001b[39m=\u001b[39m circuit\u001b[39m.\u001b[39mis_sampled \u001b[39mand\u001b[39;00m \u001b[39mself\u001b[39m\u001b[39m.\u001b[39m_has_partitioned_shots()\n\u001b[1;32m    265\u001b[0m \u001b[39m# compute the required statistics\u001b[39;00m\n",
      "File \u001b[0;32m~/anaconda3/envs/qml/lib/python3.8/site-packages/pennylane_forest/qvm.py:243\u001b[0m, in \u001b[0;36mQVMDevice.generate_samples\u001b[0;34m(self)\u001b[0m\n\u001b[1;32m    238\u001b[0m     \u001b[39mreturn\u001b[39;00m \u001b[39mself\u001b[39m\u001b[39m.\u001b[39mqc\u001b[39m.\u001b[39mrun(executable\u001b[39m=\u001b[39m\u001b[39mself\u001b[39m\u001b[39m.\u001b[39m_compiled_program)\n\u001b[1;32m    240\u001b[0m \u001b[39mif\u001b[39;00m \u001b[39mself\u001b[39m\u001b[39m.\u001b[39mcircuit_hash \u001b[39mnot\u001b[39;00m \u001b[39min\u001b[39;00m \u001b[39mself\u001b[39m\u001b[39m.\u001b[39m_compiled_program_dict:\n\u001b[1;32m    241\u001b[0m     \u001b[39m# Compiling this specific program for the first time\u001b[39;00m\n\u001b[1;32m    242\u001b[0m     \u001b[39m# Store the compiled program with the corresponding hash\u001b[39;00m\n\u001b[0;32m--> 243\u001b[0m     \u001b[39mself\u001b[39m\u001b[39m.\u001b[39m_compiled_program_dict[\u001b[39mself\u001b[39m\u001b[39m.\u001b[39mcircuit_hash] \u001b[39m=\u001b[39m \u001b[39mself\u001b[39;49m\u001b[39m.\u001b[39;49mqc\u001b[39m.\u001b[39;49mcompile(\u001b[39mself\u001b[39;49m\u001b[39m.\u001b[39;49mprog)\n\u001b[1;32m    245\u001b[0m \u001b[39m# The program has been compiled, store as the latest compiled program\u001b[39;00m\n\u001b[1;32m    246\u001b[0m \u001b[39mself\u001b[39m\u001b[39m.\u001b[39m_compiled_program \u001b[39m=\u001b[39m \u001b[39mself\u001b[39m\u001b[39m.\u001b[39m_compiled_program_dict[\u001b[39mself\u001b[39m\u001b[39m.\u001b[39mcircuit_hash]\n",
      "File \u001b[0;32m~/anaconda3/envs/qml/lib/python3.8/site-packages/pyquil/api/_error_reporting.py:251\u001b[0m, in \u001b[0;36m_record_call.<locals>.wrapper\u001b[0;34m(*args, **kwargs)\u001b[0m\n\u001b[1;32m    246\u001b[0m     pre_entry \u001b[39m=\u001b[39m CallLogValue(\n\u001b[1;32m    247\u001b[0m         timestamp_in\u001b[39m=\u001b[39mdatetime\u001b[39m.\u001b[39mutcnow(), timestamp_out\u001b[39m=\u001b[39m\u001b[39mNone\u001b[39;00m, return_value\u001b[39m=\u001b[39m\u001b[39mNone\u001b[39;00m\n\u001b[1;32m    248\u001b[0m     )\n\u001b[1;32m    249\u001b[0m     global_error_context\u001b[39m.\u001b[39mlog[key] \u001b[39m=\u001b[39m pre_entry\n\u001b[0;32m--> 251\u001b[0m val \u001b[39m=\u001b[39m func(\u001b[39m*\u001b[39;49margs, \u001b[39m*\u001b[39;49m\u001b[39m*\u001b[39;49mkwargs)\n\u001b[1;32m    253\u001b[0m \u001b[39m# poke the return value of that call in\u001b[39;00m\n\u001b[1;32m    254\u001b[0m \u001b[39mif\u001b[39;00m global_error_context \u001b[39mis\u001b[39;00m \u001b[39mnot\u001b[39;00m \u001b[39mNone\u001b[39;00m:\n",
      "File \u001b[0;32m~/anaconda3/envs/qml/lib/python3.8/site-packages/pyquil/api/_quantum_computer.py:493\u001b[0m, in \u001b[0;36mQuantumComputer.compile\u001b[0;34m(self, program, to_native_gates, optimize, protoquil_positional, protoquil)\u001b[0m\n\u001b[1;32m    490\u001b[0m quilc \u001b[39m=\u001b[39m \u001b[39mall\u001b[39m(flags)\n\u001b[1;32m    492\u001b[0m \u001b[39mif\u001b[39;00m quilc:\n\u001b[0;32m--> 493\u001b[0m     nq_program \u001b[39m=\u001b[39m \u001b[39mself\u001b[39;49m\u001b[39m.\u001b[39;49mcompiler\u001b[39m.\u001b[39;49mquil_to_native_quil(program, protoquil\u001b[39m=\u001b[39;49mprotoquil)\n\u001b[1;32m    494\u001b[0m \u001b[39melse\u001b[39;00m:\n\u001b[1;32m    495\u001b[0m     nq_program \u001b[39m=\u001b[39m program\n",
      "File \u001b[0;32m~/anaconda3/envs/qml/lib/python3.8/site-packages/pyquil/api/_error_reporting.py:251\u001b[0m, in \u001b[0;36m_record_call.<locals>.wrapper\u001b[0;34m(*args, **kwargs)\u001b[0m\n\u001b[1;32m    246\u001b[0m     pre_entry \u001b[39m=\u001b[39m CallLogValue(\n\u001b[1;32m    247\u001b[0m         timestamp_in\u001b[39m=\u001b[39mdatetime\u001b[39m.\u001b[39mutcnow(), timestamp_out\u001b[39m=\u001b[39m\u001b[39mNone\u001b[39;00m, return_value\u001b[39m=\u001b[39m\u001b[39mNone\u001b[39;00m\n\u001b[1;32m    248\u001b[0m     )\n\u001b[1;32m    249\u001b[0m     global_error_context\u001b[39m.\u001b[39mlog[key] \u001b[39m=\u001b[39m pre_entry\n\u001b[0;32m--> 251\u001b[0m val \u001b[39m=\u001b[39m func(\u001b[39m*\u001b[39;49margs, \u001b[39m*\u001b[39;49m\u001b[39m*\u001b[39;49mkwargs)\n\u001b[1;32m    253\u001b[0m \u001b[39m# poke the return value of that call in\u001b[39;00m\n\u001b[1;32m    254\u001b[0m \u001b[39mif\u001b[39;00m global_error_context \u001b[39mis\u001b[39;00m \u001b[39mnot\u001b[39;00m \u001b[39mNone\u001b[39;00m:\n",
      "File \u001b[0;32m~/anaconda3/envs/qml/lib/python3.8/site-packages/pyquil/api/_compiler.py:500\u001b[0m, in \u001b[0;36mQVMCompiler.quil_to_native_quil\u001b[0;34m(self, program, protoquil)\u001b[0m\n\u001b[1;32m    498\u001b[0m \u001b[39mself\u001b[39m\u001b[39m.\u001b[39mconnect()\n\u001b[1;32m    499\u001b[0m request \u001b[39m=\u001b[39m NativeQuilRequest(quil\u001b[39m=\u001b[39mprogram\u001b[39m.\u001b[39mout(), target_device\u001b[39m=\u001b[39m\u001b[39mself\u001b[39m\u001b[39m.\u001b[39mtarget_device)\n\u001b[0;32m--> 500\u001b[0m response \u001b[39m=\u001b[39m \u001b[39mself\u001b[39;49m\u001b[39m.\u001b[39;49mclient\u001b[39m.\u001b[39;49mcall(\u001b[39m\"\u001b[39;49m\u001b[39mquil_to_native_quil\u001b[39;49m\u001b[39m\"\u001b[39;49m, request, protoquil\u001b[39m=\u001b[39;49mprotoquil)\u001b[39m.\u001b[39masdict()\n\u001b[1;32m    501\u001b[0m nq_program \u001b[39m=\u001b[39m parse_program(response[\u001b[39m\"\u001b[39m\u001b[39mquil\u001b[39m\u001b[39m\"\u001b[39m])\n\u001b[1;32m    502\u001b[0m nq_program\u001b[39m.\u001b[39mnative_quil_metadata \u001b[39m=\u001b[39m response[\u001b[39m\"\u001b[39m\u001b[39mmetadata\u001b[39m\u001b[39m\"\u001b[39m]\n",
      "File \u001b[0;32m~/anaconda3/envs/qml/lib/python3.8/site-packages/rpcq/_client.py:205\u001b[0m, in \u001b[0;36mClient.call\u001b[0;34m(self, method_name, rpc_timeout, *args, **kwargs)\u001b[0m\n\u001b[1;32m    202\u001b[0m     warn(\u001b[39mf\u001b[39m\u001b[39m\"\u001b[39m\u001b[39m{\u001b[39;00mwarning\u001b[39m.\u001b[39mkind\u001b[39m}\u001b[39;00m\u001b[39m: \u001b[39m\u001b[39m{\u001b[39;00mwarning\u001b[39m.\u001b[39mbody\u001b[39m}\u001b[39;00m\u001b[39m\"\u001b[39m)\n\u001b[1;32m    204\u001b[0m \u001b[39mif\u001b[39;00m \u001b[39misinstance\u001b[39m(reply, RPCError):\n\u001b[0;32m--> 205\u001b[0m     \u001b[39mraise\u001b[39;00m utils\u001b[39m.\u001b[39mRPCError(reply\u001b[39m.\u001b[39merror)\n\u001b[1;32m    206\u001b[0m \u001b[39melse\u001b[39;00m:\n\u001b[1;32m    207\u001b[0m     \u001b[39mreturn\u001b[39;00m reply\u001b[39m.\u001b[39mresult\n",
      "\u001b[0;31mRPCError\u001b[0m: Unhandled error in host program:\nAt line 240: The name \"ro\" has been DECLAREd more than once."
     ]
    }
   ],
   "source": [
    "# dasked execution\n",
    "def compute_energy_parallel(H, devs, param):\n",
    "    results = []\n",
    "\n",
    "    for i in range(len(H.ops)):\n",
    "        qnode = qml.QNode(circuit, devs[i%len(devs)])\n",
    "        results.append(dask.delayed(qnode)(param, H.ops[i]))\n",
    "\n",
    "    result = H.coeffs @ dask.compute(*results, scheduler=\"threads\")\n",
    "    return result\n",
    "\n",
    "\n",
    "t0 = time.time()\n",
    "E_par = compute_energy_parallel(H, devs, params)\n",
    "dt_par = time.time() - t0\n",
    "\n",
    "print(f\"Evaluation time with dask: {dt_par:.2f} s\")"
   ]
  },
  {
   "cell_type": "code",
   "execution_count": 22,
   "metadata": {},
   "outputs": [
    {
     "name": "stdout",
     "output_type": "stream",
     "text": [
      "Evaluation time with dask and measurement optimization: 12.10 s\n"
     ]
    }
   ],
   "source": [
    "# dasked and optimized execution\n",
    "devs = [qml.device(\"forest.qvm\", device=\"10q-qvm\") for _ in range(5)]\n",
    "def compute_energy_parallel_optimized(H, devs, param):\n",
    "    results = []\n",
    "\n",
    "    obs_groupings, coeffs_groupings = qml.grouping.group_observables(H.ops, H.coeffs, \"qwc\")\n",
    "\n",
    "    for i, (obs, coeffs) in enumerate(zip(obs_groupings, coeffs_groupings)):\n",
    "        H_part = qml.Hamiltonian(coeffs, obs)\n",
    "        qnode = qml.QNode(circuit, devs[i%len(devs)])\n",
    "        results.append(dask.delayed(qnode)(param, H_part))\n",
    "\n",
    "    result = qml.math.sum(dask.compute(*results, scheduler=\"threads\"))\n",
    "    return result\n",
    "\n",
    "t0 = time.time()\n",
    "E_par_opt = compute_energy_parallel_optimized(H, devs, params)\n",
    "dt_par_opt = time.time() - t0\n",
    "\n",
    "print(f\"Evaluation time with dask and measurement optimization: {dt_par_opt:.2f} s\")"
   ]
  },
  {
   "cell_type": "code",
   "execution_count": 23,
   "metadata": {},
   "outputs": [
    {
     "name": "stdout",
     "output_type": "stream",
     "text": [
      "Evaluation time with dask + optimization: 12.46 s\n"
     ]
    }
   ],
   "source": [
    "# dasked and optimized execution\n",
    "\n",
    "devs = [qml.device(\"forest.qvm\", device=\"10q-qvm\") for _ in range(5)]\n",
    "def compute_energy_parallel_optimized(H, devs, param):\n",
    "    results = []\n",
    "\n",
    "    obs_groupings, coeffs_groupings = qml.grouping.group_observables(H.ops, H.coeffs, \"commuting\")\n",
    "\n",
    "    for i, (obs, coeffs) in enumerate(zip(obs_groupings, coeffs_groupings)):\n",
    "        H_part = qml.Hamiltonian(coeffs, obs)\n",
    "        qnode = qml.QNode(circuit, devs[i%len(devs)])\n",
    "        results.append(dask.delayed(qnode)(param, H_part))\n",
    "\n",
    "    result = qml.math.sum(dask.compute(*results, scheduler=\"threads\"))\n",
    "    return result\n",
    "\n",
    "t0 = time.time()\n",
    "E_par_opt = compute_energy_parallel_optimized(H, devs, params)\n",
    "dt_par_opt = time.time() - t0\n",
    "\n",
    "print(f\"Evaluation time with dask + optimization: {dt_par_opt:.2f} s\")"
   ]
  },
  {
   "cell_type": "code",
   "execution_count": null,
   "metadata": {},
   "outputs": [],
   "source": []
  }
 ],
 "metadata": {
  "kernelspec": {
   "display_name": "Python 3.8.13 ('qml')",
   "language": "python",
   "name": "python3"
  },
  "language_info": {
   "codemirror_mode": {
    "name": "ipython",
    "version": 3
   },
   "file_extension": ".py",
   "mimetype": "text/x-python",
   "name": "python",
   "nbconvert_exporter": "python",
   "pygments_lexer": "ipython3",
   "version": "3.8.13"
  },
  "orig_nbformat": 4,
  "vscode": {
   "interpreter": {
    "hash": "cffa57a0bc24f0ef0bf3a1b7ae37a773db7877056e169865a7fe07b96600ff66"
   }
  }
 },
 "nbformat": 4,
 "nbformat_minor": 2
}
